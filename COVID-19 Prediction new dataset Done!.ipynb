{
 "cells": [
  {
   "cell_type": "code",
   "execution_count": 347,
   "metadata": {
    "scrolled": true
   },
   "outputs": [],
   "source": [
    "import pandas as pd\n",
    "import numpy as np\n",
    "from matplotlib import pyplot as plt\n",
    "%matplotlib inline\n",
    "from prophet import Prophet\n",
    "from prophet.plot import add_changepoints_to_plot\n",
    "import random\n",
    "import pickle"
   ]
  },
  {
   "cell_type": "code",
   "execution_count": 348,
   "metadata": {},
   "outputs": [
    {
     "data": {
      "text/html": [
       "<div>\n",
       "<style scoped>\n",
       "    .dataframe tbody tr th:only-of-type {\n",
       "        vertical-align: middle;\n",
       "    }\n",
       "\n",
       "    .dataframe tbody tr th {\n",
       "        vertical-align: top;\n",
       "    }\n",
       "\n",
       "    .dataframe thead th {\n",
       "        text-align: right;\n",
       "    }\n",
       "</style>\n",
       "<table border=\"1\" class=\"dataframe\">\n",
       "  <thead>\n",
       "    <tr style=\"text-align: right;\">\n",
       "      <th></th>\n",
       "      <th>Date</th>\n",
       "      <th>Country/Region</th>\n",
       "      <th>Province/State</th>\n",
       "      <th>Confirmed</th>\n",
       "      <th>Recovered</th>\n",
       "      <th>Deaths</th>\n",
       "    </tr>\n",
       "  </thead>\n",
       "  <tbody>\n",
       "    <tr>\n",
       "      <th>0</th>\n",
       "      <td>2020-01-22</td>\n",
       "      <td>Afghanistan</td>\n",
       "      <td>NaN</td>\n",
       "      <td>0</td>\n",
       "      <td>0.0</td>\n",
       "      <td>0</td>\n",
       "    </tr>\n",
       "    <tr>\n",
       "      <th>1</th>\n",
       "      <td>2020-01-23</td>\n",
       "      <td>Afghanistan</td>\n",
       "      <td>NaN</td>\n",
       "      <td>0</td>\n",
       "      <td>0.0</td>\n",
       "      <td>0</td>\n",
       "    </tr>\n",
       "    <tr>\n",
       "      <th>2</th>\n",
       "      <td>2020-01-24</td>\n",
       "      <td>Afghanistan</td>\n",
       "      <td>NaN</td>\n",
       "      <td>0</td>\n",
       "      <td>0.0</td>\n",
       "      <td>0</td>\n",
       "    </tr>\n",
       "    <tr>\n",
       "      <th>3</th>\n",
       "      <td>2020-01-25</td>\n",
       "      <td>Afghanistan</td>\n",
       "      <td>NaN</td>\n",
       "      <td>0</td>\n",
       "      <td>0.0</td>\n",
       "      <td>0</td>\n",
       "    </tr>\n",
       "    <tr>\n",
       "      <th>4</th>\n",
       "      <td>2020-01-26</td>\n",
       "      <td>Afghanistan</td>\n",
       "      <td>NaN</td>\n",
       "      <td>0</td>\n",
       "      <td>0.0</td>\n",
       "      <td>0</td>\n",
       "    </tr>\n",
       "  </tbody>\n",
       "</table>\n",
       "</div>"
      ],
      "text/plain": [
       "         Date Country/Region Province/State  Confirmed  Recovered  Deaths\n",
       "0  2020-01-22    Afghanistan            NaN          0        0.0       0\n",
       "1  2020-01-23    Afghanistan            NaN          0        0.0       0\n",
       "2  2020-01-24    Afghanistan            NaN          0        0.0       0\n",
       "3  2020-01-25    Afghanistan            NaN          0        0.0       0\n",
       "4  2020-01-26    Afghanistan            NaN          0        0.0       0"
      ]
     },
     "execution_count": 348,
     "metadata": {},
     "output_type": "execute_result"
    }
   ],
   "source": [
    "df = pd.read_csv('https://raw.githubusercontent.com/datasets/covid-19/main/data/time-series-19-covid-combined.csv')\n",
    "df.head()"
   ]
  },
  {
   "cell_type": "code",
   "execution_count": 349,
   "metadata": {},
   "outputs": [
    {
     "data": {
      "text/plain": [
       "(145080, 6)"
      ]
     },
     "execution_count": 349,
     "metadata": {},
     "output_type": "execute_result"
    }
   ],
   "source": [
    "df.shape"
   ]
  },
  {
   "cell_type": "code",
   "execution_count": 350,
   "metadata": {},
   "outputs": [
    {
     "data": {
      "text/html": [
       "<div>\n",
       "<style scoped>\n",
       "    .dataframe tbody tr th:only-of-type {\n",
       "        vertical-align: middle;\n",
       "    }\n",
       "\n",
       "    .dataframe tbody tr th {\n",
       "        vertical-align: top;\n",
       "    }\n",
       "\n",
       "    .dataframe thead th {\n",
       "        text-align: right;\n",
       "    }\n",
       "</style>\n",
       "<table border=\"1\" class=\"dataframe\">\n",
       "  <thead>\n",
       "    <tr style=\"text-align: right;\">\n",
       "      <th></th>\n",
       "      <th>Date</th>\n",
       "      <th>Country/Region</th>\n",
       "      <th>Province/State</th>\n",
       "      <th>Confirmed</th>\n",
       "      <th>Recovered</th>\n",
       "      <th>Deaths</th>\n",
       "    </tr>\n",
       "  </thead>\n",
       "  <tbody>\n",
       "    <tr>\n",
       "      <th>145075</th>\n",
       "      <td>2021-06-20</td>\n",
       "      <td>Zimbabwe</td>\n",
       "      <td>NaN</td>\n",
       "      <td>41779</td>\n",
       "      <td>37184.0</td>\n",
       "      <td>1672</td>\n",
       "    </tr>\n",
       "    <tr>\n",
       "      <th>145076</th>\n",
       "      <td>2021-06-21</td>\n",
       "      <td>Zimbabwe</td>\n",
       "      <td>NaN</td>\n",
       "      <td>42195</td>\n",
       "      <td>37200.0</td>\n",
       "      <td>1685</td>\n",
       "    </tr>\n",
       "    <tr>\n",
       "      <th>145077</th>\n",
       "      <td>2021-06-22</td>\n",
       "      <td>Zimbabwe</td>\n",
       "      <td>NaN</td>\n",
       "      <td>42714</td>\n",
       "      <td>37288.0</td>\n",
       "      <td>1691</td>\n",
       "    </tr>\n",
       "    <tr>\n",
       "      <th>145078</th>\n",
       "      <td>2021-06-23</td>\n",
       "      <td>Zimbabwe</td>\n",
       "      <td>NaN</td>\n",
       "      <td>43480</td>\n",
       "      <td>37477.0</td>\n",
       "      <td>1692</td>\n",
       "    </tr>\n",
       "    <tr>\n",
       "      <th>145079</th>\n",
       "      <td>2021-06-24</td>\n",
       "      <td>Zimbabwe</td>\n",
       "      <td>NaN</td>\n",
       "      <td>44306</td>\n",
       "      <td>37524.0</td>\n",
       "      <td>1709</td>\n",
       "    </tr>\n",
       "  </tbody>\n",
       "</table>\n",
       "</div>"
      ],
      "text/plain": [
       "              Date Country/Region Province/State  Confirmed  Recovered  Deaths\n",
       "145075  2021-06-20       Zimbabwe            NaN      41779    37184.0    1672\n",
       "145076  2021-06-21       Zimbabwe            NaN      42195    37200.0    1685\n",
       "145077  2021-06-22       Zimbabwe            NaN      42714    37288.0    1691\n",
       "145078  2021-06-23       Zimbabwe            NaN      43480    37477.0    1692\n",
       "145079  2021-06-24       Zimbabwe            NaN      44306    37524.0    1709"
      ]
     },
     "execution_count": 350,
     "metadata": {},
     "output_type": "execute_result"
    }
   ],
   "source": [
    "df.tail()"
   ]
  },
  {
   "cell_type": "code",
   "execution_count": 351,
   "metadata": {
    "scrolled": true
   },
   "outputs": [
    {
     "data": {
      "text/plain": [
       "Index(['Date', 'Country/Region', 'Province/State', 'Confirmed', 'Recovered',\n",
       "       'Deaths'],\n",
       "      dtype='object')"
      ]
     },
     "execution_count": 351,
     "metadata": {},
     "output_type": "execute_result"
    }
   ],
   "source": [
    "df.columns"
   ]
  },
  {
   "cell_type": "code",
   "execution_count": 352,
   "metadata": {},
   "outputs": [],
   "source": [
    "df = df.rename(columns = {'Country/Region': 'Country'}, inplace = False)"
   ]
  },
  {
   "cell_type": "code",
   "execution_count": 353,
   "metadata": {},
   "outputs": [
    {
     "name": "stdout",
     "output_type": "stream",
     "text": [
      "              Date      Country Province/State  Confirmed  Recovered  Deaths\n",
      "0       2020-01-22  Afghanistan            NaN          0        0.0       0\n",
      "1       2020-01-23  Afghanistan            NaN          0        0.0       0\n",
      "2       2020-01-24  Afghanistan            NaN          0        0.0       0\n",
      "3       2020-01-25  Afghanistan            NaN          0        0.0       0\n",
      "4       2020-01-26  Afghanistan            NaN          0        0.0       0\n",
      "...            ...          ...            ...        ...        ...     ...\n",
      "145075  2021-06-20     Zimbabwe            NaN      41779    37184.0    1672\n",
      "145076  2021-06-21     Zimbabwe            NaN      42195    37200.0    1685\n",
      "145077  2021-06-22     Zimbabwe            NaN      42714    37288.0    1691\n",
      "145078  2021-06-23     Zimbabwe            NaN      43480    37477.0    1692\n",
      "145079  2021-06-24     Zimbabwe            NaN      44306    37524.0    1709\n",
      "\n",
      "[145080 rows x 6 columns]\n"
     ]
    }
   ],
   "source": [
    "df['Recovered'].interpolate(method='linear', direction = 'forward', inplace=True)\n",
    "print(df)"
   ]
  },
  {
   "cell_type": "code",
   "execution_count": 354,
   "metadata": {
    "scrolled": false
   },
   "outputs": [
    {
     "data": {
      "text/plain": [
       "Date                  0\n",
       "Country               0\n",
       "Province/State    99840\n",
       "Confirmed             0\n",
       "Recovered             0\n",
       "Deaths                0\n",
       "dtype: int64"
      ]
     },
     "execution_count": 354,
     "metadata": {},
     "output_type": "execute_result"
    }
   ],
   "source": [
    "df.isnull().sum()"
   ]
  },
  {
   "cell_type": "code",
   "execution_count": 355,
   "metadata": {},
   "outputs": [
    {
     "data": {
      "text/html": [
       "<div>\n",
       "<style scoped>\n",
       "    .dataframe tbody tr th:only-of-type {\n",
       "        vertical-align: middle;\n",
       "    }\n",
       "\n",
       "    .dataframe tbody tr th {\n",
       "        vertical-align: top;\n",
       "    }\n",
       "\n",
       "    .dataframe thead th {\n",
       "        text-align: right;\n",
       "    }\n",
       "</style>\n",
       "<table border=\"1\" class=\"dataframe\">\n",
       "  <thead>\n",
       "    <tr style=\"text-align: right;\">\n",
       "      <th></th>\n",
       "      <th>Date</th>\n",
       "      <th>Country</th>\n",
       "      <th>Confirmed</th>\n",
       "      <th>Recovered</th>\n",
       "      <th>Deaths</th>\n",
       "    </tr>\n",
       "  </thead>\n",
       "  <tbody>\n",
       "    <tr>\n",
       "      <th>0</th>\n",
       "      <td>2020-01-22</td>\n",
       "      <td>Afghanistan</td>\n",
       "      <td>0</td>\n",
       "      <td>0.0</td>\n",
       "      <td>0</td>\n",
       "    </tr>\n",
       "    <tr>\n",
       "      <th>1</th>\n",
       "      <td>2020-01-23</td>\n",
       "      <td>Afghanistan</td>\n",
       "      <td>0</td>\n",
       "      <td>0.0</td>\n",
       "      <td>0</td>\n",
       "    </tr>\n",
       "    <tr>\n",
       "      <th>2</th>\n",
       "      <td>2020-01-24</td>\n",
       "      <td>Afghanistan</td>\n",
       "      <td>0</td>\n",
       "      <td>0.0</td>\n",
       "      <td>0</td>\n",
       "    </tr>\n",
       "    <tr>\n",
       "      <th>3</th>\n",
       "      <td>2020-01-25</td>\n",
       "      <td>Afghanistan</td>\n",
       "      <td>0</td>\n",
       "      <td>0.0</td>\n",
       "      <td>0</td>\n",
       "    </tr>\n",
       "    <tr>\n",
       "      <th>4</th>\n",
       "      <td>2020-01-26</td>\n",
       "      <td>Afghanistan</td>\n",
       "      <td>0</td>\n",
       "      <td>0.0</td>\n",
       "      <td>0</td>\n",
       "    </tr>\n",
       "  </tbody>\n",
       "</table>\n",
       "</div>"
      ],
      "text/plain": [
       "         Date      Country  Confirmed  Recovered  Deaths\n",
       "0  2020-01-22  Afghanistan          0        0.0       0\n",
       "1  2020-01-23  Afghanistan          0        0.0       0\n",
       "2  2020-01-24  Afghanistan          0        0.0       0\n",
       "3  2020-01-25  Afghanistan          0        0.0       0\n",
       "4  2020-01-26  Afghanistan          0        0.0       0"
      ]
     },
     "execution_count": 355,
     "metadata": {},
     "output_type": "execute_result"
    }
   ],
   "source": [
    "df1 = df.drop(['Province/State'], axis='columns')\n",
    "df1.head()"
   ]
  },
  {
   "cell_type": "code",
   "execution_count": 356,
   "metadata": {
    "scrolled": true
   },
   "outputs": [
    {
     "data": {
      "text/html": [
       "<div>\n",
       "<style scoped>\n",
       "    .dataframe tbody tr th:only-of-type {\n",
       "        vertical-align: middle;\n",
       "    }\n",
       "\n",
       "    .dataframe tbody tr th {\n",
       "        vertical-align: top;\n",
       "    }\n",
       "\n",
       "    .dataframe thead th {\n",
       "        text-align: right;\n",
       "    }\n",
       "</style>\n",
       "<table border=\"1\" class=\"dataframe\">\n",
       "  <thead>\n",
       "    <tr style=\"text-align: right;\">\n",
       "      <th></th>\n",
       "      <th>Date</th>\n",
       "      <th>Country</th>\n",
       "      <th>Confirmed</th>\n",
       "      <th>Recovered</th>\n",
       "      <th>Deaths</th>\n",
       "    </tr>\n",
       "  </thead>\n",
       "  <tbody>\n",
       "    <tr>\n",
       "      <th>145075</th>\n",
       "      <td>2021-06-20</td>\n",
       "      <td>Zimbabwe</td>\n",
       "      <td>41779</td>\n",
       "      <td>37184.0</td>\n",
       "      <td>1672</td>\n",
       "    </tr>\n",
       "    <tr>\n",
       "      <th>145076</th>\n",
       "      <td>2021-06-21</td>\n",
       "      <td>Zimbabwe</td>\n",
       "      <td>42195</td>\n",
       "      <td>37200.0</td>\n",
       "      <td>1685</td>\n",
       "    </tr>\n",
       "    <tr>\n",
       "      <th>145077</th>\n",
       "      <td>2021-06-22</td>\n",
       "      <td>Zimbabwe</td>\n",
       "      <td>42714</td>\n",
       "      <td>37288.0</td>\n",
       "      <td>1691</td>\n",
       "    </tr>\n",
       "    <tr>\n",
       "      <th>145078</th>\n",
       "      <td>2021-06-23</td>\n",
       "      <td>Zimbabwe</td>\n",
       "      <td>43480</td>\n",
       "      <td>37477.0</td>\n",
       "      <td>1692</td>\n",
       "    </tr>\n",
       "    <tr>\n",
       "      <th>145079</th>\n",
       "      <td>2021-06-24</td>\n",
       "      <td>Zimbabwe</td>\n",
       "      <td>44306</td>\n",
       "      <td>37524.0</td>\n",
       "      <td>1709</td>\n",
       "    </tr>\n",
       "  </tbody>\n",
       "</table>\n",
       "</div>"
      ],
      "text/plain": [
       "              Date   Country  Confirmed  Recovered  Deaths\n",
       "145075  2021-06-20  Zimbabwe      41779    37184.0    1672\n",
       "145076  2021-06-21  Zimbabwe      42195    37200.0    1685\n",
       "145077  2021-06-22  Zimbabwe      42714    37288.0    1691\n",
       "145078  2021-06-23  Zimbabwe      43480    37477.0    1692\n",
       "145079  2021-06-24  Zimbabwe      44306    37524.0    1709"
      ]
     },
     "execution_count": 356,
     "metadata": {},
     "output_type": "execute_result"
    }
   ],
   "source": [
    "df1.tail()"
   ]
  },
  {
   "cell_type": "code",
   "execution_count": 357,
   "metadata": {},
   "outputs": [
    {
     "data": {
      "text/html": [
       "<div>\n",
       "<style scoped>\n",
       "    .dataframe tbody tr th:only-of-type {\n",
       "        vertical-align: middle;\n",
       "    }\n",
       "\n",
       "    .dataframe tbody tr th {\n",
       "        vertical-align: top;\n",
       "    }\n",
       "\n",
       "    .dataframe thead th {\n",
       "        text-align: right;\n",
       "    }\n",
       "</style>\n",
       "<table border=\"1\" class=\"dataframe\">\n",
       "  <thead>\n",
       "    <tr style=\"text-align: right;\">\n",
       "      <th></th>\n",
       "      <th>Date</th>\n",
       "      <th>Country</th>\n",
       "      <th>Confirmed</th>\n",
       "      <th>Recovered</th>\n",
       "      <th>Deaths</th>\n",
       "    </tr>\n",
       "  </thead>\n",
       "  <tbody>\n",
       "    <tr>\n",
       "      <th>145075</th>\n",
       "      <td>2021-06-20</td>\n",
       "      <td>Zimbabwe</td>\n",
       "      <td>41779</td>\n",
       "      <td>37184.0</td>\n",
       "      <td>1672</td>\n",
       "    </tr>\n",
       "    <tr>\n",
       "      <th>145076</th>\n",
       "      <td>2021-06-21</td>\n",
       "      <td>Zimbabwe</td>\n",
       "      <td>42195</td>\n",
       "      <td>37200.0</td>\n",
       "      <td>1685</td>\n",
       "    </tr>\n",
       "    <tr>\n",
       "      <th>145077</th>\n",
       "      <td>2021-06-22</td>\n",
       "      <td>Zimbabwe</td>\n",
       "      <td>42714</td>\n",
       "      <td>37288.0</td>\n",
       "      <td>1691</td>\n",
       "    </tr>\n",
       "    <tr>\n",
       "      <th>145078</th>\n",
       "      <td>2021-06-23</td>\n",
       "      <td>Zimbabwe</td>\n",
       "      <td>43480</td>\n",
       "      <td>37477.0</td>\n",
       "      <td>1692</td>\n",
       "    </tr>\n",
       "    <tr>\n",
       "      <th>145079</th>\n",
       "      <td>2021-06-24</td>\n",
       "      <td>Zimbabwe</td>\n",
       "      <td>44306</td>\n",
       "      <td>37524.0</td>\n",
       "      <td>1709</td>\n",
       "    </tr>\n",
       "  </tbody>\n",
       "</table>\n",
       "</div>"
      ],
      "text/plain": [
       "              Date   Country  Confirmed  Recovered  Deaths\n",
       "145075  2021-06-20  Zimbabwe      41779    37184.0    1672\n",
       "145076  2021-06-21  Zimbabwe      42195    37200.0    1685\n",
       "145077  2021-06-22  Zimbabwe      42714    37288.0    1691\n",
       "145078  2021-06-23  Zimbabwe      43480    37477.0    1692\n",
       "145079  2021-06-24  Zimbabwe      44306    37524.0    1709"
      ]
     },
     "execution_count": 357,
     "metadata": {},
     "output_type": "execute_result"
    }
   ],
   "source": [
    "df1.shape\n",
    "df1.tail()"
   ]
  },
  {
   "cell_type": "code",
   "execution_count": 358,
   "metadata": {},
   "outputs": [],
   "source": [
    "df_per_day = df1.groupby(\"Date\")[['Confirmed','Recovered', 'Deaths']].sum().reset_index()"
   ]
  },
  {
   "cell_type": "code",
   "execution_count": 359,
   "metadata": {},
   "outputs": [
    {
     "data": {
      "text/html": [
       "<div>\n",
       "<style scoped>\n",
       "    .dataframe tbody tr th:only-of-type {\n",
       "        vertical-align: middle;\n",
       "    }\n",
       "\n",
       "    .dataframe tbody tr th {\n",
       "        vertical-align: top;\n",
       "    }\n",
       "\n",
       "    .dataframe thead th {\n",
       "        text-align: right;\n",
       "    }\n",
       "</style>\n",
       "<table border=\"1\" class=\"dataframe\">\n",
       "  <thead>\n",
       "    <tr style=\"text-align: right;\">\n",
       "      <th></th>\n",
       "      <th>Date</th>\n",
       "      <th>Confirmed</th>\n",
       "      <th>Recovered</th>\n",
       "      <th>Deaths</th>\n",
       "    </tr>\n",
       "  </thead>\n",
       "  <tbody>\n",
       "    <tr>\n",
       "      <th>0</th>\n",
       "      <td>2020-01-22</td>\n",
       "      <td>557</td>\n",
       "      <td>2.997125e+05</td>\n",
       "      <td>17</td>\n",
       "    </tr>\n",
       "    <tr>\n",
       "      <th>1</th>\n",
       "      <td>2020-01-23</td>\n",
       "      <td>655</td>\n",
       "      <td>2.996467e+05</td>\n",
       "      <td>18</td>\n",
       "    </tr>\n",
       "    <tr>\n",
       "      <th>2</th>\n",
       "      <td>2020-01-24</td>\n",
       "      <td>941</td>\n",
       "      <td>2.995859e+05</td>\n",
       "      <td>26</td>\n",
       "    </tr>\n",
       "    <tr>\n",
       "      <th>3</th>\n",
       "      <td>2020-01-25</td>\n",
       "      <td>1433</td>\n",
       "      <td>2.995211e+05</td>\n",
       "      <td>42</td>\n",
       "    </tr>\n",
       "    <tr>\n",
       "      <th>4</th>\n",
       "      <td>2020-01-26</td>\n",
       "      <td>2118</td>\n",
       "      <td>2.994673e+05</td>\n",
       "      <td>56</td>\n",
       "    </tr>\n",
       "    <tr>\n",
       "      <th>...</th>\n",
       "      <td>...</td>\n",
       "      <td>...</td>\n",
       "      <td>...</td>\n",
       "      <td>...</td>\n",
       "    </tr>\n",
       "    <tr>\n",
       "      <th>515</th>\n",
       "      <td>2021-06-20</td>\n",
       "      <td>178488764</td>\n",
       "      <td>1.153337e+08</td>\n",
       "      <td>3866179</td>\n",
       "    </tr>\n",
       "    <tr>\n",
       "      <th>516</th>\n",
       "      <td>2021-06-21</td>\n",
       "      <td>178786159</td>\n",
       "      <td>1.156888e+08</td>\n",
       "      <td>3873255</td>\n",
       "    </tr>\n",
       "    <tr>\n",
       "      <th>517</th>\n",
       "      <td>2021-06-22</td>\n",
       "      <td>179158296</td>\n",
       "      <td>1.159909e+08</td>\n",
       "      <td>3882237</td>\n",
       "    </tr>\n",
       "    <tr>\n",
       "      <th>518</th>\n",
       "      <td>2021-06-23</td>\n",
       "      <td>179595551</td>\n",
       "      <td>1.163893e+08</td>\n",
       "      <td>3891760</td>\n",
       "    </tr>\n",
       "    <tr>\n",
       "      <th>519</th>\n",
       "      <td>2021-06-24</td>\n",
       "      <td>179947721</td>\n",
       "      <td>1.166135e+08</td>\n",
       "      <td>3899043</td>\n",
       "    </tr>\n",
       "  </tbody>\n",
       "</table>\n",
       "<p>520 rows × 4 columns</p>\n",
       "</div>"
      ],
      "text/plain": [
       "           Date  Confirmed     Recovered   Deaths\n",
       "0    2020-01-22        557  2.997125e+05       17\n",
       "1    2020-01-23        655  2.996467e+05       18\n",
       "2    2020-01-24        941  2.995859e+05       26\n",
       "3    2020-01-25       1433  2.995211e+05       42\n",
       "4    2020-01-26       2118  2.994673e+05       56\n",
       "..          ...        ...           ...      ...\n",
       "515  2021-06-20  178488764  1.153337e+08  3866179\n",
       "516  2021-06-21  178786159  1.156888e+08  3873255\n",
       "517  2021-06-22  179158296  1.159909e+08  3882237\n",
       "518  2021-06-23  179595551  1.163893e+08  3891760\n",
       "519  2021-06-24  179947721  1.166135e+08  3899043\n",
       "\n",
       "[520 rows x 4 columns]"
      ]
     },
     "execution_count": 359,
     "metadata": {},
     "output_type": "execute_result"
    }
   ],
   "source": [
    "df_per_day"
   ]
  },
  {
   "cell_type": "code",
   "execution_count": 360,
   "metadata": {
    "scrolled": true
   },
   "outputs": [
    {
     "data": {
      "text/html": [
       "<div>\n",
       "<style scoped>\n",
       "    .dataframe tbody tr th:only-of-type {\n",
       "        vertical-align: middle;\n",
       "    }\n",
       "\n",
       "    .dataframe tbody tr th {\n",
       "        vertical-align: top;\n",
       "    }\n",
       "\n",
       "    .dataframe thead th {\n",
       "        text-align: right;\n",
       "    }\n",
       "</style>\n",
       "<table border=\"1\" class=\"dataframe\">\n",
       "  <thead>\n",
       "    <tr style=\"text-align: right;\">\n",
       "      <th></th>\n",
       "      <th>Confirmed</th>\n",
       "      <th>Recovered</th>\n",
       "      <th>Deaths</th>\n",
       "    </tr>\n",
       "  </thead>\n",
       "  <tbody>\n",
       "    <tr>\n",
       "      <th>count</th>\n",
       "      <td>5.200000e+02</td>\n",
       "      <td>5.200000e+02</td>\n",
       "      <td>5.200000e+02</td>\n",
       "    </tr>\n",
       "    <tr>\n",
       "      <th>mean</th>\n",
       "      <td>5.924947e+07</td>\n",
       "      <td>3.524591e+07</td>\n",
       "      <td>1.431987e+06</td>\n",
       "    </tr>\n",
       "    <tr>\n",
       "      <th>std</th>\n",
       "      <td>5.804186e+07</td>\n",
       "      <td>3.451547e+07</td>\n",
       "      <td>1.202059e+06</td>\n",
       "    </tr>\n",
       "    <tr>\n",
       "      <th>min</th>\n",
       "      <td>5.570000e+02</td>\n",
       "      <td>2.992851e+05</td>\n",
       "      <td>1.700000e+01</td>\n",
       "    </tr>\n",
       "    <tr>\n",
       "      <th>25%</th>\n",
       "      <td>6.161658e+06</td>\n",
       "      <td>2.859858e+06</td>\n",
       "      <td>3.904815e+05</td>\n",
       "    </tr>\n",
       "    <tr>\n",
       "      <th>50%</th>\n",
       "      <td>3.638062e+07</td>\n",
       "      <td>2.551986e+07</td>\n",
       "      <td>1.109975e+06</td>\n",
       "    </tr>\n",
       "    <tr>\n",
       "      <th>75%</th>\n",
       "      <td>1.090169e+08</td>\n",
       "      <td>6.063106e+07</td>\n",
       "      <td>2.474202e+06</td>\n",
       "    </tr>\n",
       "    <tr>\n",
       "      <th>max</th>\n",
       "      <td>1.799477e+08</td>\n",
       "      <td>1.166135e+08</td>\n",
       "      <td>3.899043e+06</td>\n",
       "    </tr>\n",
       "  </tbody>\n",
       "</table>\n",
       "</div>"
      ],
      "text/plain": [
       "          Confirmed     Recovered        Deaths\n",
       "count  5.200000e+02  5.200000e+02  5.200000e+02\n",
       "mean   5.924947e+07  3.524591e+07  1.431987e+06\n",
       "std    5.804186e+07  3.451547e+07  1.202059e+06\n",
       "min    5.570000e+02  2.992851e+05  1.700000e+01\n",
       "25%    6.161658e+06  2.859858e+06  3.904815e+05\n",
       "50%    3.638062e+07  2.551986e+07  1.109975e+06\n",
       "75%    1.090169e+08  6.063106e+07  2.474202e+06\n",
       "max    1.799477e+08  1.166135e+08  3.899043e+06"
      ]
     },
     "execution_count": 360,
     "metadata": {},
     "output_type": "execute_result"
    }
   ],
   "source": [
    "df_per_day.describe()"
   ]
  },
  {
   "cell_type": "markdown",
   "metadata": {},
   "source": [
    "df_per_day.plot(kind='line',figsize=(20,5))"
   ]
  },
  {
   "cell_type": "code",
   "execution_count": 361,
   "metadata": {
    "scrolled": true
   },
   "outputs": [
    {
     "data": {
      "text/html": [
       "<div>\n",
       "<style scoped>\n",
       "    .dataframe tbody tr th:only-of-type {\n",
       "        vertical-align: middle;\n",
       "    }\n",
       "\n",
       "    .dataframe tbody tr th {\n",
       "        vertical-align: top;\n",
       "    }\n",
       "\n",
       "    .dataframe thead th {\n",
       "        text-align: right;\n",
       "    }\n",
       "</style>\n",
       "<table border=\"1\" class=\"dataframe\">\n",
       "  <thead>\n",
       "    <tr style=\"text-align: right;\">\n",
       "      <th></th>\n",
       "      <th>Date</th>\n",
       "      <th>Country</th>\n",
       "      <th>Confirmed</th>\n",
       "      <th>Recovered</th>\n",
       "      <th>Deaths</th>\n",
       "    </tr>\n",
       "  </thead>\n",
       "  <tbody>\n",
       "    <tr>\n",
       "      <th>132599</th>\n",
       "      <td>2021-06-24</td>\n",
       "      <td>US</td>\n",
       "      <td>33590481</td>\n",
       "      <td>0.0</td>\n",
       "      <td>603178</td>\n",
       "    </tr>\n",
       "    <tr>\n",
       "      <th>132598</th>\n",
       "      <td>2021-06-23</td>\n",
       "      <td>US</td>\n",
       "      <td>33577651</td>\n",
       "      <td>0.0</td>\n",
       "      <td>602837</td>\n",
       "    </tr>\n",
       "    <tr>\n",
       "      <th>132597</th>\n",
       "      <td>2021-06-22</td>\n",
       "      <td>US</td>\n",
       "      <td>33565215</td>\n",
       "      <td>0.0</td>\n",
       "      <td>602462</td>\n",
       "    </tr>\n",
       "    <tr>\n",
       "      <th>132596</th>\n",
       "      <td>2021-06-21</td>\n",
       "      <td>US</td>\n",
       "      <td>33554275</td>\n",
       "      <td>0.0</td>\n",
       "      <td>602092</td>\n",
       "    </tr>\n",
       "    <tr>\n",
       "      <th>132595</th>\n",
       "      <td>2021-06-20</td>\n",
       "      <td>US</td>\n",
       "      <td>33541887</td>\n",
       "      <td>0.0</td>\n",
       "      <td>601824</td>\n",
       "    </tr>\n",
       "    <tr>\n",
       "      <th>132594</th>\n",
       "      <td>2021-06-19</td>\n",
       "      <td>US</td>\n",
       "      <td>33537995</td>\n",
       "      <td>0.0</td>\n",
       "      <td>601741</td>\n",
       "    </tr>\n",
       "    <tr>\n",
       "      <th>132593</th>\n",
       "      <td>2021-06-18</td>\n",
       "      <td>US</td>\n",
       "      <td>33529475</td>\n",
       "      <td>0.0</td>\n",
       "      <td>601571</td>\n",
       "    </tr>\n",
       "    <tr>\n",
       "      <th>132592</th>\n",
       "      <td>2021-06-17</td>\n",
       "      <td>US</td>\n",
       "      <td>33508867</td>\n",
       "      <td>0.0</td>\n",
       "      <td>600978</td>\n",
       "    </tr>\n",
       "    <tr>\n",
       "      <th>132591</th>\n",
       "      <td>2021-06-16</td>\n",
       "      <td>US</td>\n",
       "      <td>33498468</td>\n",
       "      <td>0.0</td>\n",
       "      <td>600697</td>\n",
       "    </tr>\n",
       "    <tr>\n",
       "      <th>132590</th>\n",
       "      <td>2021-06-15</td>\n",
       "      <td>US</td>\n",
       "      <td>33486038</td>\n",
       "      <td>0.0</td>\n",
       "      <td>600329</td>\n",
       "    </tr>\n",
       "  </tbody>\n",
       "</table>\n",
       "</div>"
      ],
      "text/plain": [
       "              Date Country  Confirmed  Recovered  Deaths\n",
       "132599  2021-06-24      US   33590481        0.0  603178\n",
       "132598  2021-06-23      US   33577651        0.0  602837\n",
       "132597  2021-06-22      US   33565215        0.0  602462\n",
       "132596  2021-06-21      US   33554275        0.0  602092\n",
       "132595  2021-06-20      US   33541887        0.0  601824\n",
       "132594  2021-06-19      US   33537995        0.0  601741\n",
       "132593  2021-06-18      US   33529475        0.0  601571\n",
       "132592  2021-06-17      US   33508867        0.0  600978\n",
       "132591  2021-06-16      US   33498468        0.0  600697\n",
       "132590  2021-06-15      US   33486038        0.0  600329"
      ]
     },
     "execution_count": 361,
     "metadata": {},
     "output_type": "execute_result"
    }
   ],
   "source": [
    "Top10_Countries_death = df1.nlargest(10, 'Deaths')\n",
    "Top10_Countries_death.head(10)"
   ]
  },
  {
   "cell_type": "code",
   "execution_count": 362,
   "metadata": {},
   "outputs": [
    {
     "data": {
      "text/html": [
       "<div>\n",
       "<style scoped>\n",
       "    .dataframe tbody tr th:only-of-type {\n",
       "        vertical-align: middle;\n",
       "    }\n",
       "\n",
       "    .dataframe tbody tr th {\n",
       "        vertical-align: top;\n",
       "    }\n",
       "\n",
       "    .dataframe thead th {\n",
       "        text-align: right;\n",
       "    }\n",
       "</style>\n",
       "<table border=\"1\" class=\"dataframe\">\n",
       "  <thead>\n",
       "    <tr style=\"text-align: right;\">\n",
       "      <th></th>\n",
       "      <th>Date</th>\n",
       "      <th>Country</th>\n",
       "      <th>Confirmed</th>\n",
       "      <th>Recovered</th>\n",
       "      <th>Deaths</th>\n",
       "    </tr>\n",
       "  </thead>\n",
       "  <tbody>\n",
       "    <tr>\n",
       "      <th>132599</th>\n",
       "      <td>2021-06-24</td>\n",
       "      <td>US</td>\n",
       "      <td>33590481</td>\n",
       "      <td>0.0</td>\n",
       "      <td>603178</td>\n",
       "    </tr>\n",
       "    <tr>\n",
       "      <th>132598</th>\n",
       "      <td>2021-06-23</td>\n",
       "      <td>US</td>\n",
       "      <td>33577651</td>\n",
       "      <td>0.0</td>\n",
       "      <td>602837</td>\n",
       "    </tr>\n",
       "    <tr>\n",
       "      <th>132597</th>\n",
       "      <td>2021-06-22</td>\n",
       "      <td>US</td>\n",
       "      <td>33565215</td>\n",
       "      <td>0.0</td>\n",
       "      <td>602462</td>\n",
       "    </tr>\n",
       "    <tr>\n",
       "      <th>132596</th>\n",
       "      <td>2021-06-21</td>\n",
       "      <td>US</td>\n",
       "      <td>33554275</td>\n",
       "      <td>0.0</td>\n",
       "      <td>602092</td>\n",
       "    </tr>\n",
       "    <tr>\n",
       "      <th>132595</th>\n",
       "      <td>2021-06-20</td>\n",
       "      <td>US</td>\n",
       "      <td>33541887</td>\n",
       "      <td>0.0</td>\n",
       "      <td>601824</td>\n",
       "    </tr>\n",
       "    <tr>\n",
       "      <th>132594</th>\n",
       "      <td>2021-06-19</td>\n",
       "      <td>US</td>\n",
       "      <td>33537995</td>\n",
       "      <td>0.0</td>\n",
       "      <td>601741</td>\n",
       "    </tr>\n",
       "    <tr>\n",
       "      <th>132593</th>\n",
       "      <td>2021-06-18</td>\n",
       "      <td>US</td>\n",
       "      <td>33529475</td>\n",
       "      <td>0.0</td>\n",
       "      <td>601571</td>\n",
       "    </tr>\n",
       "    <tr>\n",
       "      <th>132592</th>\n",
       "      <td>2021-06-17</td>\n",
       "      <td>US</td>\n",
       "      <td>33508867</td>\n",
       "      <td>0.0</td>\n",
       "      <td>600978</td>\n",
       "    </tr>\n",
       "    <tr>\n",
       "      <th>132591</th>\n",
       "      <td>2021-06-16</td>\n",
       "      <td>US</td>\n",
       "      <td>33498468</td>\n",
       "      <td>0.0</td>\n",
       "      <td>600697</td>\n",
       "    </tr>\n",
       "    <tr>\n",
       "      <th>132590</th>\n",
       "      <td>2021-06-15</td>\n",
       "      <td>US</td>\n",
       "      <td>33486038</td>\n",
       "      <td>0.0</td>\n",
       "      <td>600329</td>\n",
       "    </tr>\n",
       "  </tbody>\n",
       "</table>\n",
       "</div>"
      ],
      "text/plain": [
       "              Date Country  Confirmed  Recovered  Deaths\n",
       "132599  2021-06-24      US   33590481        0.0  603178\n",
       "132598  2021-06-23      US   33577651        0.0  602837\n",
       "132597  2021-06-22      US   33565215        0.0  602462\n",
       "132596  2021-06-21      US   33554275        0.0  602092\n",
       "132595  2021-06-20      US   33541887        0.0  601824\n",
       "132594  2021-06-19      US   33537995        0.0  601741\n",
       "132593  2021-06-18      US   33529475        0.0  601571\n",
       "132592  2021-06-17      US   33508867        0.0  600978\n",
       "132591  2021-06-16      US   33498468        0.0  600697\n",
       "132590  2021-06-15      US   33486038        0.0  600329"
      ]
     },
     "execution_count": 362,
     "metadata": {},
     "output_type": "execute_result"
    }
   ],
   "source": [
    "Top10_Countries_confirmed = df1.nlargest(10, 'Confirmed')\n",
    "Top10_Countries_confirmed.head(10)"
   ]
  },
  {
   "cell_type": "code",
   "execution_count": 363,
   "metadata": {},
   "outputs": [
    {
     "data": {
      "text/html": [
       "<div>\n",
       "<style scoped>\n",
       "    .dataframe tbody tr th:only-of-type {\n",
       "        vertical-align: middle;\n",
       "    }\n",
       "\n",
       "    .dataframe tbody tr th {\n",
       "        vertical-align: top;\n",
       "    }\n",
       "\n",
       "    .dataframe thead th {\n",
       "        text-align: right;\n",
       "    }\n",
       "</style>\n",
       "<table border=\"1\" class=\"dataframe\">\n",
       "  <thead>\n",
       "    <tr style=\"text-align: right;\">\n",
       "      <th></th>\n",
       "      <th>Date</th>\n",
       "      <th>Country</th>\n",
       "      <th>Confirmed</th>\n",
       "      <th>Recovered</th>\n",
       "      <th>Deaths</th>\n",
       "    </tr>\n",
       "  </thead>\n",
       "  <tbody>\n",
       "    <tr>\n",
       "      <th>76958</th>\n",
       "      <td>2021-06-23</td>\n",
       "      <td>India</td>\n",
       "      <td>30082778</td>\n",
       "      <td>29063740.0</td>\n",
       "      <td>391981</td>\n",
       "    </tr>\n",
       "    <tr>\n",
       "      <th>76959</th>\n",
       "      <td>2021-06-24</td>\n",
       "      <td>India</td>\n",
       "      <td>30082778</td>\n",
       "      <td>29063740.0</td>\n",
       "      <td>391981</td>\n",
       "    </tr>\n",
       "    <tr>\n",
       "      <th>76957</th>\n",
       "      <td>2021-06-22</td>\n",
       "      <td>India</td>\n",
       "      <td>30028709</td>\n",
       "      <td>28994855.0</td>\n",
       "      <td>390660</td>\n",
       "    </tr>\n",
       "    <tr>\n",
       "      <th>76956</th>\n",
       "      <td>2021-06-21</td>\n",
       "      <td>India</td>\n",
       "      <td>29977861</td>\n",
       "      <td>28926038.0</td>\n",
       "      <td>389302</td>\n",
       "    </tr>\n",
       "    <tr>\n",
       "      <th>76955</th>\n",
       "      <td>2021-06-20</td>\n",
       "      <td>India</td>\n",
       "      <td>29935221</td>\n",
       "      <td>28844199.0</td>\n",
       "      <td>388135</td>\n",
       "    </tr>\n",
       "    <tr>\n",
       "      <th>76954</th>\n",
       "      <td>2021-06-19</td>\n",
       "      <td>India</td>\n",
       "      <td>29881772</td>\n",
       "      <td>28765738.0</td>\n",
       "      <td>386708</td>\n",
       "    </tr>\n",
       "    <tr>\n",
       "      <th>76953</th>\n",
       "      <td>2021-06-18</td>\n",
       "      <td>India</td>\n",
       "      <td>29823546</td>\n",
       "      <td>28678390.0</td>\n",
       "      <td>385137</td>\n",
       "    </tr>\n",
       "    <tr>\n",
       "      <th>76952</th>\n",
       "      <td>2021-06-17</td>\n",
       "      <td>India</td>\n",
       "      <td>29762793</td>\n",
       "      <td>28580647.0</td>\n",
       "      <td>383490</td>\n",
       "    </tr>\n",
       "    <tr>\n",
       "      <th>76951</th>\n",
       "      <td>2021-06-16</td>\n",
       "      <td>India</td>\n",
       "      <td>29700313</td>\n",
       "      <td>28491670.0</td>\n",
       "      <td>381903</td>\n",
       "    </tr>\n",
       "    <tr>\n",
       "      <th>76950</th>\n",
       "      <td>2021-06-15</td>\n",
       "      <td>India</td>\n",
       "      <td>29633105</td>\n",
       "      <td>28388100.0</td>\n",
       "      <td>379573</td>\n",
       "    </tr>\n",
       "  </tbody>\n",
       "</table>\n",
       "</div>"
      ],
      "text/plain": [
       "             Date Country  Confirmed   Recovered  Deaths\n",
       "76958  2021-06-23   India   30082778  29063740.0  391981\n",
       "76959  2021-06-24   India   30082778  29063740.0  391981\n",
       "76957  2021-06-22   India   30028709  28994855.0  390660\n",
       "76956  2021-06-21   India   29977861  28926038.0  389302\n",
       "76955  2021-06-20   India   29935221  28844199.0  388135\n",
       "76954  2021-06-19   India   29881772  28765738.0  386708\n",
       "76953  2021-06-18   India   29823546  28678390.0  385137\n",
       "76952  2021-06-17   India   29762793  28580647.0  383490\n",
       "76951  2021-06-16   India   29700313  28491670.0  381903\n",
       "76950  2021-06-15   India   29633105  28388100.0  379573"
      ]
     },
     "execution_count": 363,
     "metadata": {},
     "output_type": "execute_result"
    }
   ],
   "source": [
    "Top10_Countries_recovered = df1.nlargest(10, 'Recovered')\n",
    "Top10_Countries_recovered.head(10)"
   ]
  },
  {
   "cell_type": "code",
   "execution_count": 364,
   "metadata": {},
   "outputs": [],
   "source": [
    "#conda install libpython m2w64-toolchain -c msys2"
   ]
  },
  {
   "cell_type": "code",
   "execution_count": 365,
   "metadata": {},
   "outputs": [],
   "source": [
    "#pip install pystan==2.19.1.1"
   ]
  },
  {
   "cell_type": "code",
   "execution_count": 366,
   "metadata": {},
   "outputs": [],
   "source": [
    "#pip install prophet"
   ]
  },
  {
   "cell_type": "code",
   "execution_count": 367,
   "metadata": {},
   "outputs": [],
   "source": [
    "#conda info"
   ]
  },
  {
   "cell_type": "code",
   "execution_count": 368,
   "metadata": {},
   "outputs": [],
   "source": [
    "#conda update conda"
   ]
  },
  {
   "cell_type": "code",
   "execution_count": 369,
   "metadata": {},
   "outputs": [],
   "source": [
    "#conda install libpython m2w64-toolchain -c msys2"
   ]
  },
  {
   "cell_type": "code",
   "execution_count": 370,
   "metadata": {},
   "outputs": [],
   "source": [
    "#conda install numpy cython matplotlib scipy pandas pystan -c conda-forge"
   ]
  },
  {
   "cell_type": "code",
   "execution_count": 371,
   "metadata": {},
   "outputs": [],
   "source": [
    "#Model Intialize\n",
    "conf = Prophet(interval_width=0.95)"
   ]
  },
  {
   "cell_type": "code",
   "execution_count": 372,
   "metadata": {},
   "outputs": [
    {
     "data": {
      "text/plain": [
       "<prophet.forecaster.Prophet at 0x2b8dc2f7ee0>"
      ]
     },
     "execution_count": 372,
     "metadata": {},
     "output_type": "execute_result"
    }
   ],
   "source": [
    "conf.add_seasonality(name=\"monthly\",period=30.5,fourier_order=5)"
   ]
  },
  {
   "cell_type": "code",
   "execution_count": 373,
   "metadata": {},
   "outputs": [],
   "source": [
    "confirmed = df1.groupby('Date').sum()['Confirmed'].reset_index()\n",
    "recovered = df1.groupby('Date').sum()['Recovered'].reset_index()\n",
    "deaths = df1.groupby('Date').sum()['Deaths'].reset_index()"
   ]
  },
  {
   "cell_type": "code",
   "execution_count": 374,
   "metadata": {},
   "outputs": [],
   "source": [
    "confirmed.columns = ['ds','y']\n",
    "confirmed['ds'] = pd.to_datetime(confirmed['ds'])"
   ]
  },
  {
   "cell_type": "code",
   "execution_count": 375,
   "metadata": {
    "scrolled": false
   },
   "outputs": [
    {
     "name": "stderr",
     "output_type": "stream",
     "text": [
      "INFO:prophet:Disabling yearly seasonality. Run prophet with yearly_seasonality=True to override this.\n",
      "INFO:prophet:Disabling daily seasonality. Run prophet with daily_seasonality=True to override this.\n"
     ]
    },
    {
     "data": {
      "text/plain": [
       "<prophet.forecaster.Prophet at 0x2b8dc2f7ee0>"
      ]
     },
     "execution_count": 375,
     "metadata": {},
     "output_type": "execute_result"
    }
   ],
   "source": [
    "conf.fit(confirmed)"
   ]
  },
  {
   "cell_type": "code",
   "execution_count": 376,
   "metadata": {},
   "outputs": [
    {
     "data": {
      "text/plain": [
       "{'additive': ['monthly',\n",
       "  'weekly',\n",
       "  'additive_terms',\n",
       "  'extra_regressors_additive',\n",
       "  'holidays'],\n",
       " 'multiplicative': ['multiplicative_terms', 'extra_regressors_multiplicative']}"
      ]
     },
     "execution_count": 376,
     "metadata": {},
     "output_type": "execute_result"
    }
   ],
   "source": [
    "conf.component_modes"
   ]
  },
  {
   "cell_type": "code",
   "execution_count": 377,
   "metadata": {},
   "outputs": [],
   "source": [
    "conf_future = conf.make_future_dataframe(periods=30)"
   ]
  },
  {
   "cell_type": "code",
   "execution_count": 378,
   "metadata": {},
   "outputs": [
    {
     "data": {
      "text/html": [
       "<div>\n",
       "<style scoped>\n",
       "    .dataframe tbody tr th:only-of-type {\n",
       "        vertical-align: middle;\n",
       "    }\n",
       "\n",
       "    .dataframe tbody tr th {\n",
       "        vertical-align: top;\n",
       "    }\n",
       "\n",
       "    .dataframe thead th {\n",
       "        text-align: right;\n",
       "    }\n",
       "</style>\n",
       "<table border=\"1\" class=\"dataframe\">\n",
       "  <thead>\n",
       "    <tr style=\"text-align: right;\">\n",
       "      <th></th>\n",
       "      <th>Date</th>\n",
       "      <th>Country</th>\n",
       "      <th>Confirmed</th>\n",
       "      <th>Recovered</th>\n",
       "      <th>Deaths</th>\n",
       "    </tr>\n",
       "  </thead>\n",
       "  <tbody>\n",
       "    <tr>\n",
       "      <th>145075</th>\n",
       "      <td>2021-06-20</td>\n",
       "      <td>Zimbabwe</td>\n",
       "      <td>41779</td>\n",
       "      <td>37184.0</td>\n",
       "      <td>1672</td>\n",
       "    </tr>\n",
       "    <tr>\n",
       "      <th>145076</th>\n",
       "      <td>2021-06-21</td>\n",
       "      <td>Zimbabwe</td>\n",
       "      <td>42195</td>\n",
       "      <td>37200.0</td>\n",
       "      <td>1685</td>\n",
       "    </tr>\n",
       "    <tr>\n",
       "      <th>145077</th>\n",
       "      <td>2021-06-22</td>\n",
       "      <td>Zimbabwe</td>\n",
       "      <td>42714</td>\n",
       "      <td>37288.0</td>\n",
       "      <td>1691</td>\n",
       "    </tr>\n",
       "    <tr>\n",
       "      <th>145078</th>\n",
       "      <td>2021-06-23</td>\n",
       "      <td>Zimbabwe</td>\n",
       "      <td>43480</td>\n",
       "      <td>37477.0</td>\n",
       "      <td>1692</td>\n",
       "    </tr>\n",
       "    <tr>\n",
       "      <th>145079</th>\n",
       "      <td>2021-06-24</td>\n",
       "      <td>Zimbabwe</td>\n",
       "      <td>44306</td>\n",
       "      <td>37524.0</td>\n",
       "      <td>1709</td>\n",
       "    </tr>\n",
       "  </tbody>\n",
       "</table>\n",
       "</div>"
      ],
      "text/plain": [
       "              Date   Country  Confirmed  Recovered  Deaths\n",
       "145075  2021-06-20  Zimbabwe      41779    37184.0    1672\n",
       "145076  2021-06-21  Zimbabwe      42195    37200.0    1685\n",
       "145077  2021-06-22  Zimbabwe      42714    37288.0    1691\n",
       "145078  2021-06-23  Zimbabwe      43480    37477.0    1692\n",
       "145079  2021-06-24  Zimbabwe      44306    37524.0    1709"
      ]
     },
     "execution_count": 378,
     "metadata": {},
     "output_type": "execute_result"
    }
   ],
   "source": [
    "df1.tail()"
   ]
  },
  {
   "cell_type": "code",
   "execution_count": 379,
   "metadata": {
    "scrolled": true
   },
   "outputs": [
    {
     "data": {
      "text/html": [
       "<div>\n",
       "<style scoped>\n",
       "    .dataframe tbody tr th:only-of-type {\n",
       "        vertical-align: middle;\n",
       "    }\n",
       "\n",
       "    .dataframe tbody tr th {\n",
       "        vertical-align: top;\n",
       "    }\n",
       "\n",
       "    .dataframe thead th {\n",
       "        text-align: right;\n",
       "    }\n",
       "</style>\n",
       "<table border=\"1\" class=\"dataframe\">\n",
       "  <thead>\n",
       "    <tr style=\"text-align: right;\">\n",
       "      <th></th>\n",
       "      <th>ds</th>\n",
       "    </tr>\n",
       "  </thead>\n",
       "  <tbody>\n",
       "    <tr>\n",
       "      <th>545</th>\n",
       "      <td>2021-07-20</td>\n",
       "    </tr>\n",
       "    <tr>\n",
       "      <th>546</th>\n",
       "      <td>2021-07-21</td>\n",
       "    </tr>\n",
       "    <tr>\n",
       "      <th>547</th>\n",
       "      <td>2021-07-22</td>\n",
       "    </tr>\n",
       "    <tr>\n",
       "      <th>548</th>\n",
       "      <td>2021-07-23</td>\n",
       "    </tr>\n",
       "    <tr>\n",
       "      <th>549</th>\n",
       "      <td>2021-07-24</td>\n",
       "    </tr>\n",
       "  </tbody>\n",
       "</table>\n",
       "</div>"
      ],
      "text/plain": [
       "            ds\n",
       "545 2021-07-20\n",
       "546 2021-07-21\n",
       "547 2021-07-22\n",
       "548 2021-07-23\n",
       "549 2021-07-24"
      ]
     },
     "execution_count": 379,
     "metadata": {},
     "output_type": "execute_result"
    }
   ],
   "source": [
    "conf_future.tail()"
   ]
  },
  {
   "cell_type": "code",
   "execution_count": 380,
   "metadata": {
    "scrolled": true
   },
   "outputs": [
    {
     "data": {
      "text/html": [
       "<div>\n",
       "<style scoped>\n",
       "    .dataframe tbody tr th:only-of-type {\n",
       "        vertical-align: middle;\n",
       "    }\n",
       "\n",
       "    .dataframe tbody tr th {\n",
       "        vertical-align: top;\n",
       "    }\n",
       "\n",
       "    .dataframe thead th {\n",
       "        text-align: right;\n",
       "    }\n",
       "</style>\n",
       "<table border=\"1\" class=\"dataframe\">\n",
       "  <thead>\n",
       "    <tr style=\"text-align: right;\">\n",
       "      <th></th>\n",
       "      <th>ds</th>\n",
       "      <th>yhat</th>\n",
       "      <th>yhat_lower</th>\n",
       "      <th>yhat_upper</th>\n",
       "    </tr>\n",
       "  </thead>\n",
       "  <tbody>\n",
       "    <tr>\n",
       "      <th>520</th>\n",
       "      <td>2021-06-25</td>\n",
       "      <td>1.855402e+08</td>\n",
       "      <td>1.836941e+08</td>\n",
       "      <td>1.873094e+08</td>\n",
       "    </tr>\n",
       "    <tr>\n",
       "      <th>521</th>\n",
       "      <td>2021-06-26</td>\n",
       "      <td>1.862342e+08</td>\n",
       "      <td>1.844116e+08</td>\n",
       "      <td>1.880630e+08</td>\n",
       "    </tr>\n",
       "    <tr>\n",
       "      <th>522</th>\n",
       "      <td>2021-06-27</td>\n",
       "      <td>1.868334e+08</td>\n",
       "      <td>1.851590e+08</td>\n",
       "      <td>1.886521e+08</td>\n",
       "    </tr>\n",
       "    <tr>\n",
       "      <th>523</th>\n",
       "      <td>2021-06-28</td>\n",
       "      <td>1.874017e+08</td>\n",
       "      <td>1.855572e+08</td>\n",
       "      <td>1.892688e+08</td>\n",
       "    </tr>\n",
       "    <tr>\n",
       "      <th>524</th>\n",
       "      <td>2021-06-29</td>\n",
       "      <td>1.880114e+08</td>\n",
       "      <td>1.859837e+08</td>\n",
       "      <td>1.899886e+08</td>\n",
       "    </tr>\n",
       "    <tr>\n",
       "      <th>525</th>\n",
       "      <td>2021-06-30</td>\n",
       "      <td>1.886671e+08</td>\n",
       "      <td>1.869879e+08</td>\n",
       "      <td>1.904795e+08</td>\n",
       "    </tr>\n",
       "    <tr>\n",
       "      <th>526</th>\n",
       "      <td>2021-07-01</td>\n",
       "      <td>1.893396e+08</td>\n",
       "      <td>1.875615e+08</td>\n",
       "      <td>1.911625e+08</td>\n",
       "    </tr>\n",
       "    <tr>\n",
       "      <th>527</th>\n",
       "      <td>2021-07-02</td>\n",
       "      <td>1.900678e+08</td>\n",
       "      <td>1.882188e+08</td>\n",
       "      <td>1.919246e+08</td>\n",
       "    </tr>\n",
       "    <tr>\n",
       "      <th>528</th>\n",
       "      <td>2021-07-03</td>\n",
       "      <td>1.906791e+08</td>\n",
       "      <td>1.887886e+08</td>\n",
       "      <td>1.925947e+08</td>\n",
       "    </tr>\n",
       "    <tr>\n",
       "      <th>529</th>\n",
       "      <td>2021-07-04</td>\n",
       "      <td>1.912310e+08</td>\n",
       "      <td>1.893367e+08</td>\n",
       "      <td>1.932246e+08</td>\n",
       "    </tr>\n",
       "    <tr>\n",
       "      <th>530</th>\n",
       "      <td>2021-07-05</td>\n",
       "      <td>1.917893e+08</td>\n",
       "      <td>1.897707e+08</td>\n",
       "      <td>1.937021e+08</td>\n",
       "    </tr>\n",
       "    <tr>\n",
       "      <th>531</th>\n",
       "      <td>2021-07-06</td>\n",
       "      <td>1.924073e+08</td>\n",
       "      <td>1.904192e+08</td>\n",
       "      <td>1.943507e+08</td>\n",
       "    </tr>\n",
       "    <tr>\n",
       "      <th>532</th>\n",
       "      <td>2021-07-07</td>\n",
       "      <td>1.930679e+08</td>\n",
       "      <td>1.910933e+08</td>\n",
       "      <td>1.952611e+08</td>\n",
       "    </tr>\n",
       "    <tr>\n",
       "      <th>533</th>\n",
       "      <td>2021-07-08</td>\n",
       "      <td>1.937351e+08</td>\n",
       "      <td>1.915832e+08</td>\n",
       "      <td>1.957092e+08</td>\n",
       "    </tr>\n",
       "    <tr>\n",
       "      <th>534</th>\n",
       "      <td>2021-07-09</td>\n",
       "      <td>1.944597e+08</td>\n",
       "      <td>1.922304e+08</td>\n",
       "      <td>1.964965e+08</td>\n",
       "    </tr>\n",
       "    <tr>\n",
       "      <th>535</th>\n",
       "      <td>2021-07-10</td>\n",
       "      <td>1.950852e+08</td>\n",
       "      <td>1.930978e+08</td>\n",
       "      <td>1.971659e+08</td>\n",
       "    </tr>\n",
       "    <tr>\n",
       "      <th>536</th>\n",
       "      <td>2021-07-11</td>\n",
       "      <td>1.956718e+08</td>\n",
       "      <td>1.935378e+08</td>\n",
       "      <td>1.978107e+08</td>\n",
       "    </tr>\n",
       "    <tr>\n",
       "      <th>537</th>\n",
       "      <td>2021-07-12</td>\n",
       "      <td>1.962693e+08</td>\n",
       "      <td>1.942575e+08</td>\n",
       "      <td>1.986112e+08</td>\n",
       "    </tr>\n",
       "    <tr>\n",
       "      <th>538</th>\n",
       "      <td>2021-07-13</td>\n",
       "      <td>1.969087e+08</td>\n",
       "      <td>1.945990e+08</td>\n",
       "      <td>1.991711e+08</td>\n",
       "    </tr>\n",
       "    <tr>\n",
       "      <th>539</th>\n",
       "      <td>2021-07-14</td>\n",
       "      <td>1.975627e+08</td>\n",
       "      <td>1.951531e+08</td>\n",
       "      <td>1.999214e+08</td>\n",
       "    </tr>\n",
       "    <tr>\n",
       "      <th>540</th>\n",
       "      <td>2021-07-15</td>\n",
       "      <td>1.982036e+08</td>\n",
       "      <td>1.958776e+08</td>\n",
       "      <td>2.007827e+08</td>\n",
       "    </tr>\n",
       "    <tr>\n",
       "      <th>541</th>\n",
       "      <td>2021-07-16</td>\n",
       "      <td>1.988994e+08</td>\n",
       "      <td>1.965328e+08</td>\n",
       "      <td>2.014415e+08</td>\n",
       "    </tr>\n",
       "    <tr>\n",
       "      <th>542</th>\n",
       "      <td>2021-07-17</td>\n",
       "      <td>1.995030e+08</td>\n",
       "      <td>1.969442e+08</td>\n",
       "      <td>2.019986e+08</td>\n",
       "    </tr>\n",
       "    <tr>\n",
       "      <th>543</th>\n",
       "      <td>2021-07-18</td>\n",
       "      <td>2.000684e+08</td>\n",
       "      <td>1.974709e+08</td>\n",
       "      <td>2.027445e+08</td>\n",
       "    </tr>\n",
       "    <tr>\n",
       "      <th>544</th>\n",
       "      <td>2021-07-19</td>\n",
       "      <td>2.006329e+08</td>\n",
       "      <td>1.976253e+08</td>\n",
       "      <td>2.036003e+08</td>\n",
       "    </tr>\n",
       "    <tr>\n",
       "      <th>545</th>\n",
       "      <td>2021-07-20</td>\n",
       "      <td>2.012253e+08</td>\n",
       "      <td>1.982292e+08</td>\n",
       "      <td>2.041377e+08</td>\n",
       "    </tr>\n",
       "    <tr>\n",
       "      <th>546</th>\n",
       "      <td>2021-07-21</td>\n",
       "      <td>2.018346e+08</td>\n",
       "      <td>1.989692e+08</td>\n",
       "      <td>2.050492e+08</td>\n",
       "    </tr>\n",
       "    <tr>\n",
       "      <th>547</th>\n",
       "      <td>2021-07-22</td>\n",
       "      <td>2.024597e+08</td>\n",
       "      <td>1.994919e+08</td>\n",
       "      <td>2.054989e+08</td>\n",
       "    </tr>\n",
       "    <tr>\n",
       "      <th>548</th>\n",
       "      <td>2021-07-23</td>\n",
       "      <td>2.031867e+08</td>\n",
       "      <td>1.997895e+08</td>\n",
       "      <td>2.064181e+08</td>\n",
       "    </tr>\n",
       "    <tr>\n",
       "      <th>549</th>\n",
       "      <td>2021-07-24</td>\n",
       "      <td>2.038658e+08</td>\n",
       "      <td>2.005655e+08</td>\n",
       "      <td>2.070605e+08</td>\n",
       "    </tr>\n",
       "  </tbody>\n",
       "</table>\n",
       "</div>"
      ],
      "text/plain": [
       "            ds          yhat    yhat_lower    yhat_upper\n",
       "520 2021-06-25  1.855402e+08  1.836941e+08  1.873094e+08\n",
       "521 2021-06-26  1.862342e+08  1.844116e+08  1.880630e+08\n",
       "522 2021-06-27  1.868334e+08  1.851590e+08  1.886521e+08\n",
       "523 2021-06-28  1.874017e+08  1.855572e+08  1.892688e+08\n",
       "524 2021-06-29  1.880114e+08  1.859837e+08  1.899886e+08\n",
       "525 2021-06-30  1.886671e+08  1.869879e+08  1.904795e+08\n",
       "526 2021-07-01  1.893396e+08  1.875615e+08  1.911625e+08\n",
       "527 2021-07-02  1.900678e+08  1.882188e+08  1.919246e+08\n",
       "528 2021-07-03  1.906791e+08  1.887886e+08  1.925947e+08\n",
       "529 2021-07-04  1.912310e+08  1.893367e+08  1.932246e+08\n",
       "530 2021-07-05  1.917893e+08  1.897707e+08  1.937021e+08\n",
       "531 2021-07-06  1.924073e+08  1.904192e+08  1.943507e+08\n",
       "532 2021-07-07  1.930679e+08  1.910933e+08  1.952611e+08\n",
       "533 2021-07-08  1.937351e+08  1.915832e+08  1.957092e+08\n",
       "534 2021-07-09  1.944597e+08  1.922304e+08  1.964965e+08\n",
       "535 2021-07-10  1.950852e+08  1.930978e+08  1.971659e+08\n",
       "536 2021-07-11  1.956718e+08  1.935378e+08  1.978107e+08\n",
       "537 2021-07-12  1.962693e+08  1.942575e+08  1.986112e+08\n",
       "538 2021-07-13  1.969087e+08  1.945990e+08  1.991711e+08\n",
       "539 2021-07-14  1.975627e+08  1.951531e+08  1.999214e+08\n",
       "540 2021-07-15  1.982036e+08  1.958776e+08  2.007827e+08\n",
       "541 2021-07-16  1.988994e+08  1.965328e+08  2.014415e+08\n",
       "542 2021-07-17  1.995030e+08  1.969442e+08  2.019986e+08\n",
       "543 2021-07-18  2.000684e+08  1.974709e+08  2.027445e+08\n",
       "544 2021-07-19  2.006329e+08  1.976253e+08  2.036003e+08\n",
       "545 2021-07-20  2.012253e+08  1.982292e+08  2.041377e+08\n",
       "546 2021-07-21  2.018346e+08  1.989692e+08  2.050492e+08\n",
       "547 2021-07-22  2.024597e+08  1.994919e+08  2.054989e+08\n",
       "548 2021-07-23  2.031867e+08  1.997895e+08  2.064181e+08\n",
       "549 2021-07-24  2.038658e+08  2.005655e+08  2.070605e+08"
      ]
     },
     "execution_count": 380,
     "metadata": {},
     "output_type": "execute_result"
    }
   ],
   "source": [
    "forecast = conf.predict(conf_future)\n",
    "forecast[['ds','yhat','yhat_lower','yhat_upper']][-30:]"
   ]
  },
  {
   "cell_type": "code",
   "execution_count": 381,
   "metadata": {},
   "outputs": [
    {
     "name": "stderr",
     "output_type": "stream",
     "text": [
      "INFO:prophet:Making 4 forecasts with cutoffs between 2020-11-11 00:00:00 and 2021-03-26 00:00:00\n"
     ]
    },
    {
     "data": {
      "application/vnd.jupyter.widget-view+json": {
       "model_id": "db196b655241496598b67c2209bd8cbd",
       "version_major": 2,
       "version_minor": 0
      },
      "text/plain": [
       "HBox(children=(HTML(value=''), FloatProgress(value=0.0, max=4.0), HTML(value='')))"
      ]
     },
     "metadata": {},
     "output_type": "display_data"
    },
    {
     "name": "stdout",
     "output_type": "stream",
     "text": [
      "\n"
     ]
    },
    {
     "data": {
      "text/html": [
       "<div>\n",
       "<style scoped>\n",
       "    .dataframe tbody tr th:only-of-type {\n",
       "        vertical-align: middle;\n",
       "    }\n",
       "\n",
       "    .dataframe tbody tr th {\n",
       "        vertical-align: top;\n",
       "    }\n",
       "\n",
       "    .dataframe thead th {\n",
       "        text-align: right;\n",
       "    }\n",
       "</style>\n",
       "<table border=\"1\" class=\"dataframe\">\n",
       "  <thead>\n",
       "    <tr style=\"text-align: right;\">\n",
       "      <th></th>\n",
       "      <th>horizon</th>\n",
       "      <th>mse</th>\n",
       "      <th>rmse</th>\n",
       "      <th>mae</th>\n",
       "      <th>mape</th>\n",
       "      <th>mdape</th>\n",
       "      <th>smape</th>\n",
       "      <th>coverage</th>\n",
       "    </tr>\n",
       "  </thead>\n",
       "  <tbody>\n",
       "    <tr>\n",
       "      <th>0</th>\n",
       "      <td>9 days</td>\n",
       "      <td>6.218010e+12</td>\n",
       "      <td>2.493594e+06</td>\n",
       "      <td>2.010616e+06</td>\n",
       "      <td>0.026640</td>\n",
       "      <td>0.016283</td>\n",
       "      <td>0.027057</td>\n",
       "      <td>0.25</td>\n",
       "    </tr>\n",
       "    <tr>\n",
       "      <th>1</th>\n",
       "      <td>10 days</td>\n",
       "      <td>7.131687e+12</td>\n",
       "      <td>2.670522e+06</td>\n",
       "      <td>2.133138e+06</td>\n",
       "      <td>0.028131</td>\n",
       "      <td>0.017721</td>\n",
       "      <td>0.028595</td>\n",
       "      <td>0.25</td>\n",
       "    </tr>\n",
       "    <tr>\n",
       "      <th>2</th>\n",
       "      <td>11 days</td>\n",
       "      <td>8.071437e+12</td>\n",
       "      <td>2.841028e+06</td>\n",
       "      <td>2.259480e+06</td>\n",
       "      <td>0.029598</td>\n",
       "      <td>0.019817</td>\n",
       "      <td>0.030103</td>\n",
       "      <td>0.25</td>\n",
       "    </tr>\n",
       "    <tr>\n",
       "      <th>3</th>\n",
       "      <td>12 days</td>\n",
       "      <td>9.069365e+12</td>\n",
       "      <td>3.011539e+06</td>\n",
       "      <td>2.393466e+06</td>\n",
       "      <td>0.031092</td>\n",
       "      <td>0.022256</td>\n",
       "      <td>0.031635</td>\n",
       "      <td>0.25</td>\n",
       "    </tr>\n",
       "    <tr>\n",
       "      <th>4</th>\n",
       "      <td>13 days</td>\n",
       "      <td>1.017511e+13</td>\n",
       "      <td>3.189845e+06</td>\n",
       "      <td>2.542671e+06</td>\n",
       "      <td>0.032701</td>\n",
       "      <td>0.024388</td>\n",
       "      <td>0.033287</td>\n",
       "      <td>0.25</td>\n",
       "    </tr>\n",
       "  </tbody>\n",
       "</table>\n",
       "</div>"
      ],
      "text/plain": [
       "  horizon           mse          rmse           mae      mape     mdape  \\\n",
       "0  9 days  6.218010e+12  2.493594e+06  2.010616e+06  0.026640  0.016283   \n",
       "1 10 days  7.131687e+12  2.670522e+06  2.133138e+06  0.028131  0.017721   \n",
       "2 11 days  8.071437e+12  2.841028e+06  2.259480e+06  0.029598  0.019817   \n",
       "3 12 days  9.069365e+12  3.011539e+06  2.393466e+06  0.031092  0.022256   \n",
       "4 13 days  1.017511e+13  3.189845e+06  2.542671e+06  0.032701  0.024388   \n",
       "\n",
       "      smape  coverage  \n",
       "0  0.027057      0.25  \n",
       "1  0.028595      0.25  \n",
       "2  0.030103      0.25  \n",
       "3  0.031635      0.25  \n",
       "4  0.033287      0.25  "
      ]
     },
     "execution_count": 381,
     "metadata": {},
     "output_type": "execute_result"
    }
   ],
   "source": [
    "from prophet.diagnostics import cross_validation, performance_metrics\n",
    "df1 = cross_validation(conf, horizon='90 days')\n",
    "df_p = performance_metrics(df1)\n",
    "df_p.head(5)"
   ]
  },
  {
   "cell_type": "code",
   "execution_count": 382,
   "metadata": {},
   "outputs": [
    {
     "data": {
      "image/png": "[encoded data removed]",
      "text/plain": [
       "<Figure size 720x432 with 1 Axes>"
      ]
     },
     "metadata": {},
     "output_type": "display_data"
    }
   ],
   "source": [
    "from prophet.plot import plot_cross_validation_metric\n",
    "fig3 = plot_cross_validation_metric(df1, metric='mape')"
   ]
  },
  {
   "cell_type": "code",
   "execution_count": 285,
   "metadata": {},
   "outputs": [
    {
     "data": {
      "image/png": "[encoded data removed]",
      "text/plain": [
       "<Figure size 720x432 with 1 Axes>"
      ]
     },
     "metadata": {},
     "output_type": "display_data"
    }
   ],
   "source": [
    "confirmed_forecast_plot = conf.plot(forecast)"
   ]
  },
  {
   "cell_type": "code",
   "execution_count": 286,
   "metadata": {},
   "outputs": [
    {
     "data": {
      "image/png": "[encoded data removed]",
      "text/plain": [
       "<Figure size 648x648 with 3 Axes>"
      ]
     },
     "metadata": {},
     "output_type": "display_data"
    }
   ],
   "source": [
    "confirmed_forecast_plot = conf.plot_components(forecast)"
   ]
  },
  {
   "cell_type": "code",
   "execution_count": 287,
   "metadata": {},
   "outputs": [],
   "source": [
    "deaths.columns = ['ds','y']\n",
    "deaths['ds'] = pd.to_datetime(deaths['ds'])"
   ]
  },
  {
   "cell_type": "code",
   "execution_count": 288,
   "metadata": {},
   "outputs": [],
   "source": [
    "d = Prophet(interval_width=0.95)"
   ]
  },
  {
   "cell_type": "code",
   "execution_count": 289,
   "metadata": {},
   "outputs": [
    {
     "data": {
      "text/plain": [
       "<prophet.forecaster.Prophet at 0x2b8e0ca3580>"
      ]
     },
     "execution_count": 289,
     "metadata": {},
     "output_type": "execute_result"
    }
   ],
   "source": [
    "d.add_seasonality(name=\"monthly\",period=30.5,fourier_order=5)"
   ]
  },
  {
   "cell_type": "code",
   "execution_count": 290,
   "metadata": {},
   "outputs": [
    {
     "name": "stderr",
     "output_type": "stream",
     "text": [
      "INFO:prophet:Disabling yearly seasonality. Run prophet with yearly_seasonality=True to override this.\n",
      "INFO:prophet:Disabling daily seasonality. Run prophet with daily_seasonality=True to override this.\n"
     ]
    },
    {
     "data": {
      "text/plain": [
       "<prophet.forecaster.Prophet at 0x2b8e0ca3580>"
      ]
     },
     "execution_count": 290,
     "metadata": {},
     "output_type": "execute_result"
    }
   ],
   "source": [
    "d.fit(deaths)"
   ]
  },
  {
   "cell_type": "code",
   "execution_count": 291,
   "metadata": {},
   "outputs": [],
   "source": [
    "future = d.make_future_dataframe(periods=30)"
   ]
  },
  {
   "cell_type": "code",
   "execution_count": 292,
   "metadata": {},
   "outputs": [
    {
     "data": {
      "text/html": [
       "<div>\n",
       "<style scoped>\n",
       "    .dataframe tbody tr th:only-of-type {\n",
       "        vertical-align: middle;\n",
       "    }\n",
       "\n",
       "    .dataframe tbody tr th {\n",
       "        vertical-align: top;\n",
       "    }\n",
       "\n",
       "    .dataframe thead th {\n",
       "        text-align: right;\n",
       "    }\n",
       "</style>\n",
       "<table border=\"1\" class=\"dataframe\">\n",
       "  <thead>\n",
       "    <tr style=\"text-align: right;\">\n",
       "      <th></th>\n",
       "      <th>ds</th>\n",
       "    </tr>\n",
       "  </thead>\n",
       "  <tbody>\n",
       "    <tr>\n",
       "      <th>545</th>\n",
       "      <td>2021-07-20</td>\n",
       "    </tr>\n",
       "    <tr>\n",
       "      <th>546</th>\n",
       "      <td>2021-07-21</td>\n",
       "    </tr>\n",
       "    <tr>\n",
       "      <th>547</th>\n",
       "      <td>2021-07-22</td>\n",
       "    </tr>\n",
       "    <tr>\n",
       "      <th>548</th>\n",
       "      <td>2021-07-23</td>\n",
       "    </tr>\n",
       "    <tr>\n",
       "      <th>549</th>\n",
       "      <td>2021-07-24</td>\n",
       "    </tr>\n",
       "  </tbody>\n",
       "</table>\n",
       "</div>"
      ],
      "text/plain": [
       "            ds\n",
       "545 2021-07-20\n",
       "546 2021-07-21\n",
       "547 2021-07-22\n",
       "548 2021-07-23\n",
       "549 2021-07-24"
      ]
     },
     "execution_count": 292,
     "metadata": {},
     "output_type": "execute_result"
    }
   ],
   "source": [
    "future.tail()"
   ]
  },
  {
   "cell_type": "code",
   "execution_count": 293,
   "metadata": {},
   "outputs": [
    {
     "data": {
      "text/html": [
       "<div>\n",
       "<style scoped>\n",
       "    .dataframe tbody tr th:only-of-type {\n",
       "        vertical-align: middle;\n",
       "    }\n",
       "\n",
       "    .dataframe tbody tr th {\n",
       "        vertical-align: top;\n",
       "    }\n",
       "\n",
       "    .dataframe thead th {\n",
       "        text-align: right;\n",
       "    }\n",
       "</style>\n",
       "<table border=\"1\" class=\"dataframe\">\n",
       "  <thead>\n",
       "    <tr style=\"text-align: right;\">\n",
       "      <th></th>\n",
       "      <th>ds</th>\n",
       "      <th>yhat</th>\n",
       "      <th>yhat_lower</th>\n",
       "      <th>yhat_upper</th>\n",
       "    </tr>\n",
       "  </thead>\n",
       "  <tbody>\n",
       "    <tr>\n",
       "      <th>520</th>\n",
       "      <td>2021-06-25</td>\n",
       "      <td>3.951747e+06</td>\n",
       "      <td>3.936707e+06</td>\n",
       "      <td>3.966775e+06</td>\n",
       "    </tr>\n",
       "    <tr>\n",
       "      <th>521</th>\n",
       "      <td>2021-06-26</td>\n",
       "      <td>3.963705e+06</td>\n",
       "      <td>3.948143e+06</td>\n",
       "      <td>3.979056e+06</td>\n",
       "    </tr>\n",
       "    <tr>\n",
       "      <th>522</th>\n",
       "      <td>2021-06-27</td>\n",
       "      <td>3.973683e+06</td>\n",
       "      <td>3.958614e+06</td>\n",
       "      <td>3.989526e+06</td>\n",
       "    </tr>\n",
       "    <tr>\n",
       "      <th>523</th>\n",
       "      <td>2021-06-28</td>\n",
       "      <td>3.984364e+06</td>\n",
       "      <td>3.969935e+06</td>\n",
       "      <td>3.999363e+06</td>\n",
       "    </tr>\n",
       "    <tr>\n",
       "      <th>524</th>\n",
       "      <td>2021-06-29</td>\n",
       "      <td>3.997468e+06</td>\n",
       "      <td>3.982022e+06</td>\n",
       "      <td>4.013403e+06</td>\n",
       "    </tr>\n",
       "    <tr>\n",
       "      <th>525</th>\n",
       "      <td>2021-06-30</td>\n",
       "      <td>4.010683e+06</td>\n",
       "      <td>3.994926e+06</td>\n",
       "      <td>4.025702e+06</td>\n",
       "    </tr>\n",
       "    <tr>\n",
       "      <th>526</th>\n",
       "      <td>2021-07-01</td>\n",
       "      <td>4.023463e+06</td>\n",
       "      <td>4.005694e+06</td>\n",
       "      <td>4.041429e+06</td>\n",
       "    </tr>\n",
       "    <tr>\n",
       "      <th>527</th>\n",
       "      <td>2021-07-02</td>\n",
       "      <td>4.036542e+06</td>\n",
       "      <td>4.019954e+06</td>\n",
       "      <td>4.055001e+06</td>\n",
       "    </tr>\n",
       "    <tr>\n",
       "      <th>528</th>\n",
       "      <td>2021-07-03</td>\n",
       "      <td>4.047728e+06</td>\n",
       "      <td>4.030285e+06</td>\n",
       "      <td>4.066233e+06</td>\n",
       "    </tr>\n",
       "    <tr>\n",
       "      <th>529</th>\n",
       "      <td>2021-07-04</td>\n",
       "      <td>4.057136e+06</td>\n",
       "      <td>4.038886e+06</td>\n",
       "      <td>4.076694e+06</td>\n",
       "    </tr>\n",
       "    <tr>\n",
       "      <th>530</th>\n",
       "      <td>2021-07-05</td>\n",
       "      <td>4.067518e+06</td>\n",
       "      <td>4.046654e+06</td>\n",
       "      <td>4.088416e+06</td>\n",
       "    </tr>\n",
       "    <tr>\n",
       "      <th>531</th>\n",
       "      <td>2021-07-06</td>\n",
       "      <td>4.080525e+06</td>\n",
       "      <td>4.060496e+06</td>\n",
       "      <td>4.103268e+06</td>\n",
       "    </tr>\n",
       "    <tr>\n",
       "      <th>532</th>\n",
       "      <td>2021-07-07</td>\n",
       "      <td>4.093748e+06</td>\n",
       "      <td>4.069824e+06</td>\n",
       "      <td>4.118832e+06</td>\n",
       "    </tr>\n",
       "    <tr>\n",
       "      <th>533</th>\n",
       "      <td>2021-07-08</td>\n",
       "      <td>4.106619e+06</td>\n",
       "      <td>4.082279e+06</td>\n",
       "      <td>4.135702e+06</td>\n",
       "    </tr>\n",
       "    <tr>\n",
       "      <th>534</th>\n",
       "      <td>2021-07-09</td>\n",
       "      <td>4.119918e+06</td>\n",
       "      <td>4.092583e+06</td>\n",
       "      <td>4.149323e+06</td>\n",
       "    </tr>\n",
       "    <tr>\n",
       "      <th>535</th>\n",
       "      <td>2021-07-10</td>\n",
       "      <td>4.131469e+06</td>\n",
       "      <td>4.101934e+06</td>\n",
       "      <td>4.168034e+06</td>\n",
       "    </tr>\n",
       "    <tr>\n",
       "      <th>536</th>\n",
       "      <td>2021-07-11</td>\n",
       "      <td>4.141292e+06</td>\n",
       "      <td>4.106685e+06</td>\n",
       "      <td>4.176593e+06</td>\n",
       "    </tr>\n",
       "    <tr>\n",
       "      <th>537</th>\n",
       "      <td>2021-07-12</td>\n",
       "      <td>4.151947e+06</td>\n",
       "      <td>4.115739e+06</td>\n",
       "      <td>4.191218e+06</td>\n",
       "    </tr>\n",
       "    <tr>\n",
       "      <th>538</th>\n",
       "      <td>2021-07-13</td>\n",
       "      <td>4.164929e+06</td>\n",
       "      <td>4.127246e+06</td>\n",
       "      <td>4.202199e+06</td>\n",
       "    </tr>\n",
       "    <tr>\n",
       "      <th>539</th>\n",
       "      <td>2021-07-14</td>\n",
       "      <td>4.177822e+06</td>\n",
       "      <td>4.135088e+06</td>\n",
       "      <td>4.218997e+06</td>\n",
       "    </tr>\n",
       "    <tr>\n",
       "      <th>540</th>\n",
       "      <td>2021-07-15</td>\n",
       "      <td>4.190205e+06</td>\n",
       "      <td>4.144576e+06</td>\n",
       "      <td>4.234081e+06</td>\n",
       "    </tr>\n",
       "    <tr>\n",
       "      <th>541</th>\n",
       "      <td>2021-07-16</td>\n",
       "      <td>4.203040e+06</td>\n",
       "      <td>4.152166e+06</td>\n",
       "      <td>4.253304e+06</td>\n",
       "    </tr>\n",
       "    <tr>\n",
       "      <th>542</th>\n",
       "      <td>2021-07-17</td>\n",
       "      <td>4.214239e+06</td>\n",
       "      <td>4.163733e+06</td>\n",
       "      <td>4.264624e+06</td>\n",
       "    </tr>\n",
       "    <tr>\n",
       "      <th>543</th>\n",
       "      <td>2021-07-18</td>\n",
       "      <td>4.223773e+06</td>\n",
       "      <td>4.175170e+06</td>\n",
       "      <td>4.280079e+06</td>\n",
       "    </tr>\n",
       "    <tr>\n",
       "      <th>544</th>\n",
       "      <td>2021-07-19</td>\n",
       "      <td>4.234111e+06</td>\n",
       "      <td>4.177898e+06</td>\n",
       "      <td>4.289747e+06</td>\n",
       "    </tr>\n",
       "    <tr>\n",
       "      <th>545</th>\n",
       "      <td>2021-07-20</td>\n",
       "      <td>4.246733e+06</td>\n",
       "      <td>4.184109e+06</td>\n",
       "      <td>4.309953e+06</td>\n",
       "    </tr>\n",
       "    <tr>\n",
       "      <th>546</th>\n",
       "      <td>2021-07-21</td>\n",
       "      <td>4.259330e+06</td>\n",
       "      <td>4.193460e+06</td>\n",
       "      <td>4.323361e+06</td>\n",
       "    </tr>\n",
       "    <tr>\n",
       "      <th>547</th>\n",
       "      <td>2021-07-22</td>\n",
       "      <td>4.271640e+06</td>\n",
       "      <td>4.205569e+06</td>\n",
       "      <td>4.342183e+06</td>\n",
       "    </tr>\n",
       "    <tr>\n",
       "      <th>548</th>\n",
       "      <td>2021-07-23</td>\n",
       "      <td>4.284723e+06</td>\n",
       "      <td>4.213009e+06</td>\n",
       "      <td>4.351937e+06</td>\n",
       "    </tr>\n",
       "    <tr>\n",
       "      <th>549</th>\n",
       "      <td>2021-07-24</td>\n",
       "      <td>4.296465e+06</td>\n",
       "      <td>4.224703e+06</td>\n",
       "      <td>4.373984e+06</td>\n",
       "    </tr>\n",
       "  </tbody>\n",
       "</table>\n",
       "</div>"
      ],
      "text/plain": [
       "            ds          yhat    yhat_lower    yhat_upper\n",
       "520 2021-06-25  3.951747e+06  3.936707e+06  3.966775e+06\n",
       "521 2021-06-26  3.963705e+06  3.948143e+06  3.979056e+06\n",
       "522 2021-06-27  3.973683e+06  3.958614e+06  3.989526e+06\n",
       "523 2021-06-28  3.984364e+06  3.969935e+06  3.999363e+06\n",
       "524 2021-06-29  3.997468e+06  3.982022e+06  4.013403e+06\n",
       "525 2021-06-30  4.010683e+06  3.994926e+06  4.025702e+06\n",
       "526 2021-07-01  4.023463e+06  4.005694e+06  4.041429e+06\n",
       "527 2021-07-02  4.036542e+06  4.019954e+06  4.055001e+06\n",
       "528 2021-07-03  4.047728e+06  4.030285e+06  4.066233e+06\n",
       "529 2021-07-04  4.057136e+06  4.038886e+06  4.076694e+06\n",
       "530 2021-07-05  4.067518e+06  4.046654e+06  4.088416e+06\n",
       "531 2021-07-06  4.080525e+06  4.060496e+06  4.103268e+06\n",
       "532 2021-07-07  4.093748e+06  4.069824e+06  4.118832e+06\n",
       "533 2021-07-08  4.106619e+06  4.082279e+06  4.135702e+06\n",
       "534 2021-07-09  4.119918e+06  4.092583e+06  4.149323e+06\n",
       "535 2021-07-10  4.131469e+06  4.101934e+06  4.168034e+06\n",
       "536 2021-07-11  4.141292e+06  4.106685e+06  4.176593e+06\n",
       "537 2021-07-12  4.151947e+06  4.115739e+06  4.191218e+06\n",
       "538 2021-07-13  4.164929e+06  4.127246e+06  4.202199e+06\n",
       "539 2021-07-14  4.177822e+06  4.135088e+06  4.218997e+06\n",
       "540 2021-07-15  4.190205e+06  4.144576e+06  4.234081e+06\n",
       "541 2021-07-16  4.203040e+06  4.152166e+06  4.253304e+06\n",
       "542 2021-07-17  4.214239e+06  4.163733e+06  4.264624e+06\n",
       "543 2021-07-18  4.223773e+06  4.175170e+06  4.280079e+06\n",
       "544 2021-07-19  4.234111e+06  4.177898e+06  4.289747e+06\n",
       "545 2021-07-20  4.246733e+06  4.184109e+06  4.309953e+06\n",
       "546 2021-07-21  4.259330e+06  4.193460e+06  4.323361e+06\n",
       "547 2021-07-22  4.271640e+06  4.205569e+06  4.342183e+06\n",
       "548 2021-07-23  4.284723e+06  4.213009e+06  4.351937e+06\n",
       "549 2021-07-24  4.296465e+06  4.224703e+06  4.373984e+06"
      ]
     },
     "execution_count": 293,
     "metadata": {},
     "output_type": "execute_result"
    }
   ],
   "source": [
    "forecast = d.predict(future)\n",
    "forecast[['ds','yhat','yhat_lower','yhat_upper']][-30:]"
   ]
  },
  {
   "cell_type": "code",
   "execution_count": 294,
   "metadata": {},
   "outputs": [
    {
     "data": {
      "image/png": "[encoded data removed]",
      "text/plain": [
       "<Figure size 720x432 with 1 Axes>"
      ]
     },
     "metadata": {},
     "output_type": "display_data"
    },
    {
     "data": {
      "image/png": "[encoded data removed]",
      "text/plain": [
       "<Figure size 648x648 with 3 Axes>"
      ]
     },
     "metadata": {},
     "output_type": "display_data"
    }
   ],
   "source": [
    "deaths_forecast_plot = d.plot(forecast)\n",
    "deaths_forecast_plot = d.plot_components(forecast)"
   ]
  },
  {
   "cell_type": "code",
   "execution_count": 295,
   "metadata": {},
   "outputs": [],
   "source": [
    "recovered.columns = ['ds','y']\n",
    "recovered['ds'] = pd.to_datetime(recovered['ds'])"
   ]
  },
  {
   "cell_type": "code",
   "execution_count": 296,
   "metadata": {},
   "outputs": [],
   "source": [
    "rec = Prophet()"
   ]
  },
  {
   "cell_type": "code",
   "execution_count": 297,
   "metadata": {},
   "outputs": [
    {
     "data": {
      "text/plain": [
       "<prophet.forecaster.Prophet at 0x2b8e0cc6760>"
      ]
     },
     "execution_count": 297,
     "metadata": {},
     "output_type": "execute_result"
    }
   ],
   "source": [
    "rec.add_seasonality(name=\"monthly\",period=30.5,fourier_order=5)"
   ]
  },
  {
   "cell_type": "code",
   "execution_count": 298,
   "metadata": {},
   "outputs": [
    {
     "name": "stderr",
     "output_type": "stream",
     "text": [
      "INFO:prophet:Disabling yearly seasonality. Run prophet with yearly_seasonality=True to override this.\n",
      "INFO:prophet:Disabling daily seasonality. Run prophet with daily_seasonality=True to override this.\n"
     ]
    }
   ],
   "source": [
    "rec.fit(recovered)\n",
    "\n",
    "rec_future = rec.make_future_dataframe(periods=30)"
   ]
  },
  {
   "cell_type": "code",
   "execution_count": 299,
   "metadata": {},
   "outputs": [
    {
     "data": {
      "text/html": [
       "<div>\n",
       "<style scoped>\n",
       "    .dataframe tbody tr th:only-of-type {\n",
       "        vertical-align: middle;\n",
       "    }\n",
       "\n",
       "    .dataframe tbody tr th {\n",
       "        vertical-align: top;\n",
       "    }\n",
       "\n",
       "    .dataframe thead th {\n",
       "        text-align: right;\n",
       "    }\n",
       "</style>\n",
       "<table border=\"1\" class=\"dataframe\">\n",
       "  <thead>\n",
       "    <tr style=\"text-align: right;\">\n",
       "      <th></th>\n",
       "      <th>ds</th>\n",
       "    </tr>\n",
       "  </thead>\n",
       "  <tbody>\n",
       "    <tr>\n",
       "      <th>545</th>\n",
       "      <td>2021-07-20</td>\n",
       "    </tr>\n",
       "    <tr>\n",
       "      <th>546</th>\n",
       "      <td>2021-07-21</td>\n",
       "    </tr>\n",
       "    <tr>\n",
       "      <th>547</th>\n",
       "      <td>2021-07-22</td>\n",
       "    </tr>\n",
       "    <tr>\n",
       "      <th>548</th>\n",
       "      <td>2021-07-23</td>\n",
       "    </tr>\n",
       "    <tr>\n",
       "      <th>549</th>\n",
       "      <td>2021-07-24</td>\n",
       "    </tr>\n",
       "  </tbody>\n",
       "</table>\n",
       "</div>"
      ],
      "text/plain": [
       "            ds\n",
       "545 2021-07-20\n",
       "546 2021-07-21\n",
       "547 2021-07-22\n",
       "548 2021-07-23\n",
       "549 2021-07-24"
      ]
     },
     "execution_count": 299,
     "metadata": {},
     "output_type": "execute_result"
    }
   ],
   "source": [
    "rec_future.tail()"
   ]
  },
  {
   "cell_type": "code",
   "execution_count": 300,
   "metadata": {
    "scrolled": true
   },
   "outputs": [
    {
     "data": {
      "text/html": [
       "<div>\n",
       "<style scoped>\n",
       "    .dataframe tbody tr th:only-of-type {\n",
       "        vertical-align: middle;\n",
       "    }\n",
       "\n",
       "    .dataframe tbody tr th {\n",
       "        vertical-align: top;\n",
       "    }\n",
       "\n",
       "    .dataframe thead th {\n",
       "        text-align: right;\n",
       "    }\n",
       "</style>\n",
       "<table border=\"1\" class=\"dataframe\">\n",
       "  <thead>\n",
       "    <tr style=\"text-align: right;\">\n",
       "      <th></th>\n",
       "      <th>ds</th>\n",
       "      <th>yhat</th>\n",
       "      <th>yhat_lower</th>\n",
       "      <th>yhat_upper</th>\n",
       "    </tr>\n",
       "  </thead>\n",
       "  <tbody>\n",
       "    <tr>\n",
       "      <th>545</th>\n",
       "      <td>2021-07-20</td>\n",
       "      <td>1.311372e+08</td>\n",
       "      <td>1.295290e+08</td>\n",
       "      <td>1.327828e+08</td>\n",
       "    </tr>\n",
       "    <tr>\n",
       "      <th>546</th>\n",
       "      <td>2021-07-21</td>\n",
       "      <td>1.316687e+08</td>\n",
       "      <td>1.299870e+08</td>\n",
       "      <td>1.333280e+08</td>\n",
       "    </tr>\n",
       "    <tr>\n",
       "      <th>547</th>\n",
       "      <td>2021-07-22</td>\n",
       "      <td>1.321668e+08</td>\n",
       "      <td>1.303844e+08</td>\n",
       "      <td>1.339284e+08</td>\n",
       "    </tr>\n",
       "    <tr>\n",
       "      <th>548</th>\n",
       "      <td>2021-07-23</td>\n",
       "      <td>1.326933e+08</td>\n",
       "      <td>1.309845e+08</td>\n",
       "      <td>1.345333e+08</td>\n",
       "    </tr>\n",
       "    <tr>\n",
       "      <th>549</th>\n",
       "      <td>2021-07-24</td>\n",
       "      <td>1.332439e+08</td>\n",
       "      <td>1.314218e+08</td>\n",
       "      <td>1.351100e+08</td>\n",
       "    </tr>\n",
       "  </tbody>\n",
       "</table>\n",
       "</div>"
      ],
      "text/plain": [
       "            ds          yhat    yhat_lower    yhat_upper\n",
       "545 2021-07-20  1.311372e+08  1.295290e+08  1.327828e+08\n",
       "546 2021-07-21  1.316687e+08  1.299870e+08  1.333280e+08\n",
       "547 2021-07-22  1.321668e+08  1.303844e+08  1.339284e+08\n",
       "548 2021-07-23  1.326933e+08  1.309845e+08  1.345333e+08\n",
       "549 2021-07-24  1.332439e+08  1.314218e+08  1.351100e+08"
      ]
     },
     "execution_count": 300,
     "metadata": {},
     "output_type": "execute_result"
    }
   ],
   "source": [
    "forecast = rec.predict(rec_future)\n",
    "forecast[['ds','yhat','yhat_lower','yhat_upper']].tail()"
   ]
  },
  {
   "cell_type": "code",
   "execution_count": 301,
   "metadata": {
    "scrolled": false
   },
   "outputs": [
    {
     "data": {
      "image/png": "[encoded data removed]",
      "text/plain": [
       "<Figure size 720x432 with 1 Axes>"
      ]
     },
     "metadata": {},
     "output_type": "display_data"
    },
    {
     "data": {
      "image/png": "[encoded data removed]",
      "text/plain": [
       "<Figure size 648x648 with 3 Axes>"
      ]
     },
     "metadata": {},
     "output_type": "display_data"
    }
   ],
   "source": [
    "recovered_forecast_plot = rec.plot(forecast)\n",
    "recovered_forecast_plot = rec.plot_components(forecast)"
   ]
  },
  {
   "cell_type": "code",
   "execution_count": 388,
   "metadata": {},
   "outputs": [],
   "source": [
    "pickle.dump(rec,open('RECmodel.pkl','wb'))\n",
    "pickle.dump(conf,open('CONFmodel.pkl','wb'))\n",
    "pickle.dump(d,open('DEATHmodel.pkl','wb'))"
   ]
  },
  {
   "cell_type": "code",
   "execution_count": 390,
   "metadata": {},
   "outputs": [],
   "source": [
    "import pickle\n",
    "with open('forecast_model.pckl', 'wb') as fout:\n",
    "    pickle.dump(conf, fout)\n",
    "with open('forecast_model.pckl', 'rb') as fin:\n",
    "    m2 = pickle.load(fin)"
   ]
  },
  {
   "cell_type": "code",
   "execution_count": 384,
   "metadata": {},
   "outputs": [],
   "source": [
    "from flask import Flask, jsonify, request\n"
   ]
  },
  {
   "cell_type": "code",
   "execution_count": 385,
   "metadata": {},
   "outputs": [
    {
     "data": {
      "text/html": [
       "<div>\n",
       "<style scoped>\n",
       "    .dataframe tbody tr th:only-of-type {\n",
       "        vertical-align: middle;\n",
       "    }\n",
       "\n",
       "    .dataframe tbody tr th {\n",
       "        vertical-align: top;\n",
       "    }\n",
       "\n",
       "    .dataframe thead th {\n",
       "        text-align: right;\n",
       "    }\n",
       "</style>\n",
       "<table border=\"1\" class=\"dataframe\">\n",
       "  <thead>\n",
       "    <tr style=\"text-align: right;\">\n",
       "      <th></th>\n",
       "      <th>ds</th>\n",
       "      <th>yhat</th>\n",
       "      <th>yhat_lower</th>\n",
       "      <th>yhat_upper</th>\n",
       "    </tr>\n",
       "  </thead>\n",
       "  <tbody>\n",
       "    <tr>\n",
       "      <th>545</th>\n",
       "      <td>2021-07-20</td>\n",
       "      <td>2.012253e+08</td>\n",
       "      <td>1.979378e+08</td>\n",
       "      <td>2.040870e+08</td>\n",
       "    </tr>\n",
       "    <tr>\n",
       "      <th>546</th>\n",
       "      <td>2021-07-21</td>\n",
       "      <td>2.018346e+08</td>\n",
       "      <td>1.984499e+08</td>\n",
       "      <td>2.048974e+08</td>\n",
       "    </tr>\n",
       "    <tr>\n",
       "      <th>547</th>\n",
       "      <td>2021-07-22</td>\n",
       "      <td>2.024597e+08</td>\n",
       "      <td>1.989866e+08</td>\n",
       "      <td>2.054567e+08</td>\n",
       "    </tr>\n",
       "    <tr>\n",
       "      <th>548</th>\n",
       "      <td>2021-07-23</td>\n",
       "      <td>2.031867e+08</td>\n",
       "      <td>1.993454e+08</td>\n",
       "      <td>2.066186e+08</td>\n",
       "    </tr>\n",
       "    <tr>\n",
       "      <th>549</th>\n",
       "      <td>2021-07-24</td>\n",
       "      <td>2.038658e+08</td>\n",
       "      <td>1.998494e+08</td>\n",
       "      <td>2.072407e+08</td>\n",
       "    </tr>\n",
       "  </tbody>\n",
       "</table>\n",
       "</div>"
      ],
      "text/plain": [
       "            ds          yhat    yhat_lower    yhat_upper\n",
       "545 2021-07-20  2.012253e+08  1.979378e+08  2.040870e+08\n",
       "546 2021-07-21  2.018346e+08  1.984499e+08  2.048974e+08\n",
       "547 2021-07-22  2.024597e+08  1.989866e+08  2.054567e+08\n",
       "548 2021-07-23  2.031867e+08  1.993454e+08  2.066186e+08\n",
       "549 2021-07-24  2.038658e+08  1.998494e+08  2.072407e+08"
      ]
     },
     "execution_count": 385,
     "metadata": {},
     "output_type": "execute_result"
    }
   ],
   "source": [
    "future2 = m2.make_future_dataframe(periods=30)\n",
    "forecast2 = m2.predict(future2)\n",
    "forecast2[['ds', 'yhat', 'yhat_lower', 'yhat_upper']].tail()"
   ]
  },
  {
   "cell_type": "code",
   "execution_count": 389,
   "metadata": {
    "scrolled": true
   },
   "outputs": [
    {
     "name": "stdout",
     "output_type": "stream",
     "text": [
      " * Serving Flask app \"__main__\" (lazy loading)\n",
      " * Environment: production\n",
      "   WARNING: This is a development server. Do not use it in a production deployment.\n",
      "   Use a production WSGI server instead.\n",
      " * Debug mode: off\n"
     ]
    },
    {
     "name": "stderr",
     "output_type": "stream",
     "text": [
      "INFO:werkzeug: * Running on http://0.0.0.0:3000/ (Press CTRL+C to quit)\n"
     ]
    }
   ],
   "source": []
  }
 ],
 "metadata": {
  "kernelspec": {
   "display_name": "Python 3",
   "language": "python",
   "name": "python3"
  },
  "language_info": {
   "codemirror_mode": {
    "name": "ipython",
    "version": 3
   },
   "file_extension": ".py",
   "mimetype": "text/x-python",
   "name": "python",
   "nbconvert_exporter": "python",
   "pygments_lexer": "ipython3",
   "version": "3.8.5"
  },
  "pycharm": {
   "stem_cell": {
    "cell_type": "raw",
    "source": [],
    "metadata": {
     "collapsed": false
    }
   }
  }
 },
 "nbformat": 4,
 "nbformat_minor": 4
}